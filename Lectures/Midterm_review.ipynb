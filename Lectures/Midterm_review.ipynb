{
  "nbformat": 4,
  "nbformat_minor": 0,
  "metadata": {
    "colab": {
      "name": "Midterm_review.ipynb",
      "provenance": [],
      "collapsed_sections": [],
      "authorship_tag": "ABX9TyMGCDM/XTGK9cAJxbNy2PQK",
      "include_colab_link": true
    },
    "kernelspec": {
      "name": "python3",
      "display_name": "Python 3"
    },
    "language_info": {
      "name": "python"
    }
  },
  "cells": [
    {
      "cell_type": "markdown",
      "metadata": {
        "id": "view-in-github",
        "colab_type": "text"
      },
      "source": [
        "<a href=\"https://colab.research.google.com/github/scaomath/wustl-math450/blob/main/Lectures/Midterm_review.ipynb\" target=\"_parent\"><img src=\"https://colab.research.google.com/assets/colab-badge.svg\" alt=\"Open In Colab\"/></a>"
      ]
    },
    {
      "cell_type": "markdown",
      "metadata": {
        "id": "WDYoM3ZOyaht"
      },
      "source": [
        "# Midterm review\n",
        "\n",
        "- Flow control.\n",
        "- Indexing.\n",
        "- Dimension tracking.\n"
      ]
    },
    {
      "cell_type": "code",
      "metadata": {
        "colab": {
          "base_uri": "https://localhost:8080/"
        },
        "id": "qaSTjSz6yiMX",
        "outputId": "4e35c3b6-f07f-4067-c9d5-b26d55bd8327"
      },
      "source": [
        "# iteration\n",
        "lst = ['ab', 'cd', 'ef', 'gh'] # iterable\n",
        "for element in lst:\n",
        "  print(element)"
      ],
      "execution_count": 1,
      "outputs": [
        {
          "output_type": "stream",
          "text": [
            "ab\n",
            "cd\n",
            "ef\n",
            "gh\n"
          ],
          "name": "stdout"
        }
      ]
    },
    {
      "cell_type": "code",
      "metadata": {
        "colab": {
          "base_uri": "https://localhost:8080/"
        },
        "id": "bGoyHFro1VCW",
        "outputId": "54a1d48c-37bf-4453-e856-4f6255c0cd55"
      },
      "source": [
        "lst1 = [i+'_new' for i in lst] # list comprehension \n",
        "print(lst1)"
      ],
      "execution_count": 2,
      "outputs": [
        {
          "output_type": "stream",
          "text": [
            "['ab_new', 'cd_new', 'ef_new', 'gh_new']\n"
          ],
          "name": "stdout"
        }
      ]
    },
    {
      "cell_type": "code",
      "metadata": {
        "colab": {
          "base_uri": "https://localhost:8080/"
        },
        "id": "qg8oMKbY1pTQ",
        "outputId": "56865470-25e6-45fd-a447-4594fe3fba7f"
      },
      "source": [
        "# convert any iterable to a generator\n",
        "lst_iter = iter(lst)\n",
        "# what is the diff between a generator and an iterable\n",
        "# generator loads element into memory 1 at a time\n",
        "\n",
        "for _ in range(len(lst)):\n",
        "  print(next(lst_iter))"
      ],
      "execution_count": 3,
      "outputs": [
        {
          "output_type": "stream",
          "text": [
            "ab\n",
            "cd\n",
            "ef\n",
            "gh\n"
          ],
          "name": "stdout"
        }
      ]
    },
    {
      "cell_type": "code",
      "metadata": {
        "colab": {
          "base_uri": "https://localhost:8080/"
        },
        "id": "fCKn3Yxh2cvE",
        "outputId": "ce78af28-f4d3-4c1f-addc-e2cf07f0deff"
      },
      "source": [
        "# enumerate generates a counter for us\n",
        "print(lst)\n",
        "for index, element in enumerate(lst):\n",
        "  print(index, element)"
      ],
      "execution_count": 5,
      "outputs": [
        {
          "output_type": "stream",
          "text": [
            "['ab', 'cd', 'ef', 'gh']\n",
            "0 ab\n",
            "1 cd\n",
            "2 ef\n",
            "3 gh\n"
          ],
          "name": "stdout"
        }
      ]
    },
    {
      "cell_type": "code",
      "metadata": {
        "colab": {
          "base_uri": "https://localhost:8080/"
        },
        "id": "GTBsF0YO2six",
        "outputId": "479a05a0-91b8-4140-ee36-4d96bf704dba"
      },
      "source": [
        "for x in enumerate(lst):\n",
        "  print(x, type(x)) # x[0] is index x[1] is the element"
      ],
      "execution_count": 6,
      "outputs": [
        {
          "output_type": "stream",
          "text": [
            "(0, 'ab') <class 'tuple'>\n",
            "(1, 'cd') <class 'tuple'>\n",
            "(2, 'ef') <class 'tuple'>\n",
            "(3, 'gh') <class 'tuple'>\n"
          ],
          "name": "stdout"
        }
      ]
    },
    {
      "cell_type": "code",
      "metadata": {
        "colab": {
          "base_uri": "https://localhost:8080/"
        },
        "id": "hGxUXQTI3P-C",
        "outputId": "ed451dee-d99e-45a6-9922-dcf0bf0f9d08"
      },
      "source": [
        "(10, 10, 20, 1) # in numpy shape is a tuple"
      ],
      "execution_count": 8,
      "outputs": [
        {
          "output_type": "execute_result",
          "data": {
            "text/plain": [
              "(10, 10, 20, 1)"
            ]
          },
          "metadata": {
            "tags": []
          },
          "execution_count": 8
        }
      ]
    },
    {
      "cell_type": "code",
      "metadata": {
        "colab": {
          "base_uri": "https://localhost:8080/",
          "height": 168
        },
        "id": "1RCcpPQY35z8",
        "outputId": "642a6c50-9034-45ea-f1bf-aae84614f9a8"
      },
      "source": [
        "z += 1"
      ],
      "execution_count": 10,
      "outputs": [
        {
          "output_type": "error",
          "ename": "NameError",
          "evalue": "ignored",
          "traceback": [
            "\u001b[0;31m---------------------------------------------------------------------------\u001b[0m",
            "\u001b[0;31mNameError\u001b[0m                                 Traceback (most recent call last)",
            "\u001b[0;32m<ipython-input-10-b1ebc95d97f2>\u001b[0m in \u001b[0;36m<module>\u001b[0;34m()\u001b[0m\n\u001b[0;32m----> 1\u001b[0;31m \u001b[0mz\u001b[0m \u001b[0;34m+=\u001b[0m \u001b[0;36m1\u001b[0m\u001b[0;34m\u001b[0m\u001b[0;34m\u001b[0m\u001b[0m\n\u001b[0m",
            "\u001b[0;31mNameError\u001b[0m: name 'z' is not defined"
          ]
        }
      ]
    },
    {
      "cell_type": "code",
      "metadata": {
        "colab": {
          "base_uri": "https://localhost:8080/",
          "height": 220
        },
        "id": "-ClLrQRE3pZb",
        "outputId": "f539b158-351c-4533-bb50-8358258a8a71"
      },
      "source": [
        "if z < 1:\n",
        "  z += 1\n",
        "else:\n",
        "  z = 1"
      ],
      "execution_count": 9,
      "outputs": [
        {
          "output_type": "error",
          "ename": "NameError",
          "evalue": "ignored",
          "traceback": [
            "\u001b[0;31m---------------------------------------------------------------------------\u001b[0m",
            "\u001b[0;31mNameError\u001b[0m                                 Traceback (most recent call last)",
            "\u001b[0;32m<ipython-input-9-3e31348c7f6f>\u001b[0m in \u001b[0;36m<module>\u001b[0;34m()\u001b[0m\n\u001b[0;32m----> 1\u001b[0;31m \u001b[0;32mif\u001b[0m \u001b[0mz\u001b[0m \u001b[0;34m<\u001b[0m \u001b[0;36m1\u001b[0m\u001b[0;34m:\u001b[0m\u001b[0;34m\u001b[0m\u001b[0;34m\u001b[0m\u001b[0m\n\u001b[0m\u001b[1;32m      2\u001b[0m   \u001b[0mz\u001b[0m \u001b[0;34m+=\u001b[0m \u001b[0;36m1\u001b[0m\u001b[0;34m\u001b[0m\u001b[0;34m\u001b[0m\u001b[0m\n\u001b[1;32m      3\u001b[0m \u001b[0;32melse\u001b[0m\u001b[0;34m:\u001b[0m\u001b[0;34m\u001b[0m\u001b[0;34m\u001b[0m\u001b[0m\n\u001b[1;32m      4\u001b[0m   \u001b[0mz\u001b[0m \u001b[0;34m=\u001b[0m \u001b[0;36m1\u001b[0m\u001b[0;34m\u001b[0m\u001b[0;34m\u001b[0m\u001b[0m\n",
            "\u001b[0;31mNameError\u001b[0m: name 'z' is not defined"
          ]
        }
      ]
    },
    {
      "cell_type": "code",
      "metadata": {
        "id": "OQpYXvYR3WWP"
      },
      "source": [
        "# try except\n",
        "try:\n",
        "  z += 1\n",
        "except:\n",
        "  z = 1"
      ],
      "execution_count": 11,
      "outputs": []
    },
    {
      "cell_type": "code",
      "metadata": {
        "colab": {
          "base_uri": "https://localhost:8080/"
        },
        "id": "4OGeKxha4C8l",
        "outputId": "d1b06203-f3ba-4ae8-ec84-25e8e7bf1819"
      },
      "source": [
        "print(z)"
      ],
      "execution_count": 12,
      "outputs": [
        {
          "output_type": "stream",
          "text": [
            "1\n"
          ],
          "name": "stdout"
        }
      ]
    },
    {
      "cell_type": "code",
      "metadata": {
        "colab": {
          "base_uri": "https://localhost:8080/"
        },
        "id": "9DUn9DfK4DkA",
        "outputId": "f21e5e48-4430-4c4c-e93a-85509d01cad3"
      },
      "source": [
        "try:\n",
        "  y += 1\n",
        "except NameError as e:\n",
        "  print(\"This is a custom error message that the variable does not exit.\")"
      ],
      "execution_count": 13,
      "outputs": [
        {
          "output_type": "stream",
          "text": [
            "This is a custom error message that the variable does not exit.\n"
          ],
          "name": "stdout"
        }
      ]
    },
    {
      "cell_type": "code",
      "metadata": {
        "id": "CABo-5A54jwJ"
      },
      "source": [
        "import torch\n",
        "import torch.nn as nn"
      ],
      "execution_count": 14,
      "outputs": []
    },
    {
      "cell_type": "markdown",
      "metadata": {
        "id": "YJSqSCGM41Fg"
      },
      "source": [
        "# Dimension\n",
        "\n",
        "- `torch.mm`, `*`\n",
        "\n",
        "# Indexing\n",
        "\n",
        "- `-1` usage in indexing, and `dim=-1`.\n",
        "\n",
        "# combination\n",
        "\n",
        "- `torch.sum(a, dim=-1)` or `a.mean(dim=-1)`"
      ]
    },
    {
      "cell_type": "code",
      "metadata": {
        "id": "IabH78gR40ET"
      },
      "source": [
        "x = torch.randn(100, 20)\n",
        "y = torch.randn(100, )"
      ],
      "execution_count": 15,
      "outputs": []
    },
    {
      "cell_type": "code",
      "metadata": {
        "colab": {
          "base_uri": "https://localhost:8080/",
          "height": 168
        },
        "id": "Mjpwgzwd5QOb",
        "outputId": "05d6f785-8c01-4fa1-c502-8d9c0704f3f1"
      },
      "source": [
        "(x*y).size()"
      ],
      "execution_count": 16,
      "outputs": [
        {
          "output_type": "error",
          "ename": "RuntimeError",
          "evalue": "ignored",
          "traceback": [
            "\u001b[0;31m---------------------------------------------------------------------------\u001b[0m",
            "\u001b[0;31mRuntimeError\u001b[0m                              Traceback (most recent call last)",
            "\u001b[0;32m<ipython-input-16-dad2c435fb73>\u001b[0m in \u001b[0;36m<module>\u001b[0;34m()\u001b[0m\n\u001b[0;32m----> 1\u001b[0;31m \u001b[0;34m(\u001b[0m\u001b[0mx\u001b[0m\u001b[0;34m*\u001b[0m\u001b[0my\u001b[0m\u001b[0;34m)\u001b[0m\u001b[0;34m.\u001b[0m\u001b[0msize\u001b[0m\u001b[0;34m(\u001b[0m\u001b[0;34m)\u001b[0m\u001b[0;34m\u001b[0m\u001b[0;34m\u001b[0m\u001b[0m\n\u001b[0m",
            "\u001b[0;31mRuntimeError\u001b[0m: The size of tensor a (20) must match the size of tensor b (100) at non-singleton dimension 1"
          ]
        }
      ]
    },
    {
      "cell_type": "code",
      "metadata": {
        "colab": {
          "base_uri": "https://localhost:8080/"
        },
        "id": "menN6ilu5ayF",
        "outputId": "c981f365-d392-4bf0-d941-4b1963fa5a92"
      },
      "source": [
        "z = y.view(-1, 1)\n",
        "print(y.size(), z.size())"
      ],
      "execution_count": 17,
      "outputs": [
        {
          "output_type": "stream",
          "text": [
            "torch.Size([100]) torch.Size([100, 1])\n"
          ],
          "name": "stdout"
        }
      ]
    },
    {
      "cell_type": "code",
      "metadata": {
        "colab": {
          "base_uri": "https://localhost:8080/"
        },
        "id": "rEgJ5pnK5xrw",
        "outputId": "6989b9a3-d141-442d-c091-e02171554c55"
      },
      "source": [
        "(z*x).size()"
      ],
      "execution_count": 18,
      "outputs": [
        {
          "output_type": "execute_result",
          "data": {
            "text/plain": [
              "torch.Size([100, 20])"
            ]
          },
          "metadata": {
            "tags": []
          },
          "execution_count": 18
        }
      ]
    },
    {
      "cell_type": "markdown",
      "metadata": {
        "id": "wXIFKwxb59CN"
      },
      "source": [
        "Q: What really is the difference between a blank dimension and a dimension of 1? As in `(100,)` vs `(100,1)`.\n",
        "\n",
        "A: `(100, )` is not broadcastable, `(100, 1)` is broadcastable to any `(100, n)` where `n` can be any int.\n",
        "\n",
        "But `(100, 2)` is not broadcastable to `(100, n)`.\n",
        "\n",
        "\n"
      ]
    },
    {
      "cell_type": "code",
      "metadata": {
        "id": "8YD1tOg558nZ"
      },
      "source": [
        "z1 = torch.randn(10, 20)\n",
        "z2 = torch.randn(1, 20); # okay\n",
        "z3 = z1*z2\n",
        "\n",
        "'''\n",
        "equivalent using for loop\n",
        "'''\n",
        "z3 = torch.zeros_like(z1)\n",
        "for i in range(10):\n",
        "  z3[i] = z1[i]*z2"
      ],
      "execution_count": 25,
      "outputs": []
    },
    {
      "cell_type": "code",
      "metadata": {
        "colab": {
          "base_uri": "https://localhost:8080/",
          "height": 203
        },
        "id": "Fv07du3R6iu9",
        "outputId": "e2c77682-4ce4-4074-88b3-bfcf06d04e53"
      },
      "source": [
        "x1 = torch.randn(200, 100)\n",
        "x2 = torch.randn(200, 1)\n",
        "\n",
        "x1.mm(x2) # bad"
      ],
      "execution_count": 29,
      "outputs": [
        {
          "output_type": "error",
          "ename": "RuntimeError",
          "evalue": "ignored",
          "traceback": [
            "\u001b[0;31m---------------------------------------------------------------------------\u001b[0m",
            "\u001b[0;31mRuntimeError\u001b[0m                              Traceback (most recent call last)",
            "\u001b[0;32m<ipython-input-29-55b61936585f>\u001b[0m in \u001b[0;36m<module>\u001b[0;34m()\u001b[0m\n\u001b[1;32m      2\u001b[0m \u001b[0mx2\u001b[0m \u001b[0;34m=\u001b[0m \u001b[0mtorch\u001b[0m\u001b[0;34m.\u001b[0m\u001b[0mrandn\u001b[0m\u001b[0;34m(\u001b[0m\u001b[0;36m200\u001b[0m\u001b[0;34m,\u001b[0m \u001b[0;36m1\u001b[0m\u001b[0;34m)\u001b[0m\u001b[0;34m\u001b[0m\u001b[0;34m\u001b[0m\u001b[0m\n\u001b[1;32m      3\u001b[0m \u001b[0;34m\u001b[0m\u001b[0m\n\u001b[0;32m----> 4\u001b[0;31m \u001b[0mx1\u001b[0m\u001b[0;34m.\u001b[0m\u001b[0mmm\u001b[0m\u001b[0;34m(\u001b[0m\u001b[0mx2\u001b[0m\u001b[0;34m)\u001b[0m \u001b[0;31m# bad\u001b[0m\u001b[0;34m\u001b[0m\u001b[0;34m\u001b[0m\u001b[0m\n\u001b[0m",
            "\u001b[0;31mRuntimeError\u001b[0m: mat1 and mat2 shapes cannot be multiplied (200x100 and 200x1)"
          ]
        }
      ]
    },
    {
      "cell_type": "code",
      "metadata": {
        "colab": {
          "base_uri": "https://localhost:8080/"
        },
        "id": "Z4o4AGFz7XZJ",
        "outputId": "239bca36-2886-4144-fb2f-d8bde2acbd4a"
      },
      "source": [
        "x1 = torch.randn(100, 512)\n",
        "x2 = torch.randn(512, 2)\n",
        "x3 = x1.mm(x2)\n",
        "print(x3.size())"
      ],
      "execution_count": 30,
      "outputs": [
        {
          "output_type": "stream",
          "text": [
            "torch.Size([100, 2])\n"
          ],
          "name": "stdout"
        }
      ]
    },
    {
      "cell_type": "code",
      "metadata": {
        "colab": {
          "base_uri": "https://localhost:8080/"
        },
        "id": "NrCY_gUW71g0",
        "outputId": "463f69c6-a005-449b-958d-a90bfb2e08a5"
      },
      "source": [
        "# mm does not support higher dimension tensor\n",
        "# nn.Linear does\n",
        "x1 = torch.randn(10, 200, 25)\n",
        "layer = nn.Linear(25, 2)\n",
        "x3 = layer(x1)\n",
        "print(x3.size()) "
      ],
      "execution_count": 32,
      "outputs": [
        {
          "output_type": "stream",
          "text": [
            "torch.Size([10, 200, 2])\n"
          ],
          "name": "stdout"
        }
      ]
    },
    {
      "cell_type": "code",
      "metadata": {
        "colab": {
          "base_uri": "https://localhost:8080/"
        },
        "id": "nhDbU_858CF3",
        "outputId": "338f280b-c6a4-4241-cda4-d599b1802acb"
      },
      "source": [
        "# dim = -1, -1 means last dimension\n",
        "x1 = torch.randn(10, 20, 5)\n",
        "x2 = x1.sum(dim=-1)\n",
        "x3 = x1.sum(dim=-2)\n",
        "print(x2.size())\n",
        "print(x3.size())\n"
      ],
      "execution_count": 37,
      "outputs": [
        {
          "output_type": "stream",
          "text": [
            "torch.Size([10, 20])\n",
            "torch.Size([10, 5])\n"
          ],
          "name": "stdout"
        }
      ]
    },
    {
      "cell_type": "code",
      "metadata": {
        "id": "RxvbR-Pq8mqI"
      },
      "source": [
        "# \n",
        "layer = nn.Linear(784, 256) # (input_dim, output_dim)"
      ],
      "execution_count": 38,
      "outputs": []
    },
    {
      "cell_type": "code",
      "metadata": {
        "colab": {
          "base_uri": "https://localhost:8080/"
        },
        "id": "9kRlmsFl9LOT",
        "outputId": "95cc8334-3f2e-4191-f61b-092729dbee73"
      },
      "source": [
        "for param in layer.parameters():\n",
        "  print(param.size())"
      ],
      "execution_count": 39,
      "outputs": [
        {
          "output_type": "stream",
          "text": [
            "torch.Size([256, 784])\n",
            "torch.Size([256])\n"
          ],
          "name": "stdout"
        }
      ]
    },
    {
      "cell_type": "code",
      "metadata": {
        "colab": {
          "base_uri": "https://localhost:8080/"
        },
        "id": "sxblgcBI9PWj",
        "outputId": "cfdb792f-4a6d-4d02-aee3-63ce610f1660"
      },
      "source": [
        "net = nn.Sequential(\n",
        "    nn.Linear(100, 256), #(input, hidden)\n",
        "    nn.ReLU(),\n",
        "    nn.Linear(256, 2) # (hidden, output)\n",
        ")\n",
        "z1 = net(torch.randn(8192, 100)) # (batch_size, input_dim)\n",
        "z2 = net(torch.randn(16, 100)) \n",
        "\n",
        "print(z1.size(), z2.size())"
      ],
      "execution_count": 40,
      "outputs": [
        {
          "output_type": "stream",
          "text": [
            "torch.Size([8192, 2]) torch.Size([16, 2])\n"
          ],
          "name": "stdout"
        }
      ]
    },
    {
      "cell_type": "markdown",
      "metadata": {
        "id": "7MLuW-nX_I3h"
      },
      "source": [
        "- 1 epoch of SGD: $O(N)$\n",
        "- 1 iteration of GD  $O(N)$\n",
        "- $N$: number of samples"
      ]
    },
    {
      "cell_type": "code",
      "metadata": {
        "id": "RzND_xCa_IvF"
      },
      "source": [
        ""
      ],
      "execution_count": null,
      "outputs": []
    },
    {
      "cell_type": "code",
      "metadata": {
        "id": "zosUXCTL_GwS"
      },
      "source": [
        ""
      ],
      "execution_count": null,
      "outputs": []
    },
    {
      "cell_type": "code",
      "metadata": {
        "id": "eNa51CH6_GO5"
      },
      "source": [
        ""
      ],
      "execution_count": null,
      "outputs": []
    }
  ]
}