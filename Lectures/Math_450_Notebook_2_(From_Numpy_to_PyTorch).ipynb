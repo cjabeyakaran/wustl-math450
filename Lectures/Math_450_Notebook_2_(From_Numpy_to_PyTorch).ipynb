{
  "nbformat": 4,
  "nbformat_minor": 0,
  "metadata": {
    "colab": {
      "name": "Math 450 Notebook 2 (From Numpy to PyTorch).ipynb",
      "provenance": [],
      "collapsed_sections": [],
      "authorship_tag": "ABX9TyOI2j2bKcCb/U3T3Ub3ft2d",
      "include_colab_link": true
    },
    "kernelspec": {
      "name": "python3",
      "display_name": "Python 3"
    }
  },
  "cells": [
    {
      "cell_type": "markdown",
      "metadata": {
        "id": "view-in-github",
        "colab_type": "text"
      },
      "source": [
        "<a href=\"https://colab.research.google.com/github/scaomath/wustl-math450/blob/main/Math_450_Notebook_2_(From_Numpy_to_PyTorch).ipynb\" target=\"_parent\"><img src=\"https://colab.research.google.com/assets/colab-badge.svg\" alt=\"Open In Colab\"/></a>"
      ]
    },
    {
      "cell_type": "markdown",
      "metadata": {
        "id": "n9nfcOnJw7VB"
      },
      "source": [
        "# Coding Lecture 2 of Math 450\n",
        "\n",
        "Goal of the our class: make us learn machine learning in torch package.\n",
        "- Build our own neural net using Torch's LEGO-like blocks.\n",
        "- Write torch-like code from scratch.\n",
        "- Write our own optimizer.\n",
        "\n",
        "\n",
        "This is a worksheet version of the notebook. We can follow along during the coding lecture and then download the annotated version in our Github repository.\n",
        "\n",
        "Download this notebook at: https://github.com/scaomath/wustl-math450/blob/main/Math_450_Notebook_2_(From_Numpy_to_PyTorch).ipynb"
      ]
    },
    {
      "cell_type": "code",
      "metadata": {
        "id": "5WQozZ69ytx-"
      },
      "source": [
        "import numpy as np\n",
        "import torch"
      ],
      "execution_count": null,
      "outputs": []
    },
    {
      "cell_type": "code",
      "metadata": {
        "colab": {
          "base_uri": "https://localhost:8080/"
        },
        "id": "oROIXw0FBczs",
        "outputId": "c388ea1c-4b57-4416-e104-b4380411f69e"
      },
      "source": [
        "# x = np.array([0, 1, 2, 3])\n",
        "x = torch.tensor([0, 1, 2, 3], dtype=torch.uint8)\n",
        "print(x)"
      ],
      "execution_count": null,
      "outputs": [
        {
          "output_type": "stream",
          "text": [
            "tensor([0, 1, 2, 3], dtype=torch.uint8)\n"
          ],
          "name": "stdout"
        }
      ]
    },
    {
      "cell_type": "code",
      "metadata": {
        "colab": {
          "base_uri": "https://localhost:8080/"
        },
        "id": "K99wy1o4B21G",
        "outputId": "7212ee80-6920-4be5-dc83-8039ab7404c8"
      },
      "source": [
        "# np.all(x)\n",
        "torch.all(x) # ctrl/cmd + enter to run this cell\n",
        "# 0 output here just means the output is False"
      ],
      "execution_count": null,
      "outputs": [
        {
          "output_type": "execute_result",
          "data": {
            "text/plain": [
              "tensor(0, dtype=torch.uint8)"
            ]
          },
          "metadata": {
            "tags": []
          },
          "execution_count": 37
        }
      ]
    },
    {
      "cell_type": "code",
      "metadata": {
        "colab": {
          "base_uri": "https://localhost:8080/"
        },
        "id": "Kt_nvhbiB_6c",
        "outputId": "57b30479-07de-4b8b-e17c-e5470b22f088"
      },
      "source": [
        "x.all()"
      ],
      "execution_count": null,
      "outputs": [
        {
          "output_type": "execute_result",
          "data": {
            "text/plain": [
              "tensor(0, dtype=torch.uint8)"
            ]
          },
          "metadata": {
            "tags": []
          },
          "execution_count": 38
        }
      ]
    },
    {
      "cell_type": "markdown",
      "metadata": {
        "id": "0Ga29qYH3RNg"
      },
      "source": [
        "## Review of Coding Lecture 1: From Numpy to Torch\n",
        "\n",
        "- Matrix vector multiplication (`dot` in `numpy` and `mm` in `torch`) vs `*` (elementwise multiplication)\n",
        "- Axes of an array, `squeeze()`.\n",
        "- Object-oriented way of applying functions.\n",
        "- `reshape()` in `numpy` vs `view()` in torch."
      ]
    },
    {
      "cell_type": "code",
      "metadata": {
        "id": "1s68fUq33Qf1"
      },
      "source": [
        "# matrix vector multiplication vs *\n",
        "x = np.array([[1,2], [0,5]])\n",
        "y = np.array([1.3, 2.5])"
      ],
      "execution_count": null,
      "outputs": []
    },
    {
      "cell_type": "code",
      "metadata": {
        "colab": {
          "base_uri": "https://localhost:8080/"
        },
        "id": "IPd-_QeUDKpa",
        "outputId": "ffea9275-54d6-49a3-ed4f-7fb57c620dc0"
      },
      "source": [
        "print(x, '\\n\\n', y)"
      ],
      "execution_count": null,
      "outputs": [
        {
          "output_type": "stream",
          "text": [
            "[[1 2]\n",
            " [0 5]] \n",
            "\n",
            " [1.3 2.5]\n"
          ],
          "name": "stdout"
        }
      ]
    },
    {
      "cell_type": "code",
      "metadata": {
        "colab": {
          "base_uri": "https://localhost:8080/"
        },
        "id": "cgGPFsBoDTRN",
        "outputId": "c26062fc-d139-41af-95f6-8a4812b8b98b"
      },
      "source": [
        "y.shape"
      ],
      "execution_count": null,
      "outputs": [
        {
          "output_type": "execute_result",
          "data": {
            "text/plain": [
              "(2,)"
            ]
          },
          "metadata": {
            "tags": []
          },
          "execution_count": 44
        }
      ]
    },
    {
      "cell_type": "code",
      "metadata": {
        "colab": {
          "base_uri": "https://localhost:8080/"
        },
        "id": "nkFIMAKYDc1q",
        "outputId": "ab7ea7bf-02aa-44bb-fd29-9106f7f3ddfb"
      },
      "source": [
        "x*y # this is not using the matrix x multiplied by y\n",
        "# [1.3 2.5] is multiplied on each row of x"
      ],
      "execution_count": null,
      "outputs": [
        {
          "output_type": "execute_result",
          "data": {
            "text/plain": [
              "array([[ 1.3,  5. ],\n",
              "       [ 0. , 12.5]])"
            ]
          },
          "metadata": {
            "tags": []
          },
          "execution_count": 45
        }
      ]
    },
    {
      "cell_type": "code",
      "metadata": {
        "colab": {
          "base_uri": "https://localhost:8080/"
        },
        "id": "bwYOtWtvD0aB",
        "outputId": "0281952a-63d5-4a95-f6e6-c792b5675e3e"
      },
      "source": [
        "y.reshape(-1,1) # adding a second dimension\n",
        "# change this (2,) vector to a (2,1) vector"
      ],
      "execution_count": null,
      "outputs": [
        {
          "output_type": "execute_result",
          "data": {
            "text/plain": [
              "array([[1.3],\n",
              "       [2.5]])"
            ]
          },
          "metadata": {
            "tags": []
          },
          "execution_count": 46
        }
      ]
    },
    {
      "cell_type": "code",
      "metadata": {
        "colab": {
          "base_uri": "https://localhost:8080/"
        },
        "id": "ZzijrNtWELNF",
        "outputId": "32e11635-b560-4b20-f623-0c3428663d21"
      },
      "source": [
        "x*y.reshape(-1,1)"
      ],
      "execution_count": null,
      "outputs": [
        {
          "output_type": "execute_result",
          "data": {
            "text/plain": [
              "array([[ 1.3,  2.6],\n",
              "       [ 0. , 12.5]])"
            ]
          },
          "metadata": {
            "tags": []
          },
          "execution_count": 47
        }
      ]
    },
    {
      "cell_type": "code",
      "metadata": {
        "colab": {
          "base_uri": "https://localhost:8080/"
        },
        "id": "Ptc3R-nGEav2",
        "outputId": "94397aeb-85c0-4f02-a011-028742445132"
      },
      "source": [
        "# matrix vector multiplication\n",
        "# np.matmul\n",
        "# np.dot (inner product)\n",
        "x = np.arange(10).reshape(2,-1) # (2,5)\n",
        "y = np.random.randn(5)\n",
        "print(x, '\\n\\n', y)\n",
        "z = x.dot(y) # (2,n) dot with (n,) yield a (2, )\n",
        "# toggle comment/uncomment shortcut is ctrl/cmd+ /\n",
        "print('\\n', z)"
      ],
      "execution_count": null,
      "outputs": [
        {
          "output_type": "stream",
          "text": [
            "[[0 1 2 3 4]\n",
            " [5 6 7 8 9]] \n",
            "\n",
            " [ 0.82762389  0.66481707  0.03514183  0.18600171 -0.13526512]\n",
            "\n",
            " [0.75204542 8.64364239]\n"
          ],
          "name": "stdout"
        }
      ]
    },
    {
      "cell_type": "code",
      "metadata": {
        "colab": {
          "base_uri": "https://localhost:8080/"
        },
        "id": "Cgn-04x7FlEr",
        "outputId": "0b835632-bae2-46e0-88ce-6590df25a3c9"
      },
      "source": [
        "a = np.random.randn(5, 3) # (5,3)\n",
        "b = np.random.randn(3, 100)\n",
        "print(a.dot(b).shape)"
      ],
      "execution_count": null,
      "outputs": [
        {
          "output_type": "stream",
          "text": [
            "(5, 100)\n"
          ],
          "name": "stdout"
        }
      ]
    },
    {
      "cell_type": "code",
      "metadata": {
        "colab": {
          "base_uri": "https://localhost:8080/"
        },
        "id": "NYgXb9t9FzQQ",
        "outputId": "8b7ffbca-1d9a-4f0f-af37-9a57938404a4"
      },
      "source": [
        "a = torch.randn( (5,3) )\n",
        "b = torch.randn( (3,100) )\n",
        "print(a.mm(b).size())"
      ],
      "execution_count": null,
      "outputs": [
        {
          "output_type": "stream",
          "text": [
            "torch.Size([5, 100])\n"
          ],
          "name": "stdout"
        }
      ]
    },
    {
      "cell_type": "code",
      "metadata": {
        "colab": {
          "base_uri": "https://localhost:8080/"
        },
        "id": "zXCnevGmGKah",
        "outputId": "7c46ee37-3b17-4a1e-b576-2221066b7796"
      },
      "source": [
        "x=torch.arange(10).reshape(2,5)\n",
        "print(x)\n",
        "# axis 0 is row\n",
        "# axis 1 is column"
      ],
      "execution_count": null,
      "outputs": [
        {
          "output_type": "stream",
          "text": [
            "tensor([[0, 1, 2, 3, 4],\n",
            "        [5, 6, 7, 8, 9]])\n"
          ],
          "name": "stdout"
        }
      ]
    },
    {
      "cell_type": "code",
      "metadata": {
        "colab": {
          "base_uri": "https://localhost:8080/"
        },
        "id": "X7Y_NnMmGexx",
        "outputId": "eed67089-07c7-4c4a-c3fc-f5722069eff4"
      },
      "source": [
        "x.sum(dim=0) # whenever a function is applied along an axis\n",
        "# that axis is gone\n",
        "# (2,5) array sum along axis 0, only (5,) is left"
      ],
      "execution_count": null,
      "outputs": [
        {
          "output_type": "execute_result",
          "data": {
            "text/plain": [
              "tensor([ 5,  7,  9, 11, 13])"
            ]
          },
          "metadata": {
            "tags": []
          },
          "execution_count": 54
        }
      ]
    },
    {
      "cell_type": "code",
      "metadata": {
        "colab": {
          "base_uri": "https://localhost:8080/"
        },
        "id": "uQCymGLPG5Np",
        "outputId": "08fe39b4-515a-4023-96c8-b1a7a7185984"
      },
      "source": [
        "x.sum(dim=1)"
      ],
      "execution_count": null,
      "outputs": [
        {
          "output_type": "execute_result",
          "data": {
            "text/plain": [
              "tensor([10, 35])"
            ]
          },
          "metadata": {
            "tags": []
          },
          "execution_count": 56
        }
      ]
    },
    {
      "cell_type": "code",
      "metadata": {
        "colab": {
          "base_uri": "https://localhost:8080/"
        },
        "id": "8cBqInmNHML2",
        "outputId": "8480d4a4-6f5d-45d9-b310-6e1c21a5660c"
      },
      "source": [
        "x = torch.tensor([[1,2,3,0]])\n",
        "print(x.size()) # x has a singleton dimension"
      ],
      "execution_count": null,
      "outputs": [
        {
          "output_type": "stream",
          "text": [
            "torch.Size([1, 4])\n"
          ],
          "name": "stdout"
        }
      ]
    },
    {
      "cell_type": "code",
      "metadata": {
        "colab": {
          "base_uri": "https://localhost:8080/"
        },
        "id": "wkft9J1-HZEx",
        "outputId": "61398129-756a-40cf-e646-79edd7f323dc"
      },
      "source": [
        "print(x)\n",
        "print(x.size())\n",
        "print(x.squeeze())\n",
        "print(x.squeeze().size())"
      ],
      "execution_count": null,
      "outputs": [
        {
          "output_type": "stream",
          "text": [
            "tensor([[1, 2, 3, 0]])\n",
            "torch.Size([1, 4])\n",
            "tensor([1, 2, 3, 0])\n",
            "torch.Size([4])\n"
          ],
          "name": "stdout"
        }
      ]
    },
    {
      "cell_type": "code",
      "metadata": {
        "colab": {
          "base_uri": "https://localhost:8080/"
        },
        "id": "0G9N_7sLHxyZ",
        "outputId": "63bb6dd7-047f-4168-b4f7-fe445f7dd9e6"
      },
      "source": [
        "arr = np.arange(20).reshape(-1,5)\n",
        "print(arr)"
      ],
      "execution_count": null,
      "outputs": [
        {
          "output_type": "stream",
          "text": [
            "[[ 0  1  2  3  4]\n",
            " [ 5  6  7  8  9]\n",
            " [10 11 12 13 14]\n",
            " [15 16 17 18 19]]\n"
          ],
          "name": "stdout"
        }
      ]
    },
    {
      "cell_type": "code",
      "metadata": {
        "colab": {
          "base_uri": "https://localhost:8080/"
        },
        "id": "IlDrGrAUH7v7",
        "outputId": "982f9d0a-2e91-4dc5-a44c-60e63e6e93f8"
      },
      "source": [
        "arr = torch.arange(20).view(-1,5) # same as reshape\n",
        "print(arr)"
      ],
      "execution_count": null,
      "outputs": [
        {
          "output_type": "stream",
          "text": [
            "tensor([[ 0,  1,  2,  3,  4],\n",
            "        [ 5,  6,  7,  8,  9],\n",
            "        [10, 11, 12, 13, 14],\n",
            "        [15, 16, 17, 18, 19]])\n"
          ],
          "name": "stdout"
        }
      ]
    },
    {
      "cell_type": "markdown",
      "metadata": {
        "id": "gOj-LHY9zoPU"
      },
      "source": [
        "# Key components for a neural network\n",
        "\n",
        "\n",
        "## Multi-layer, multiple perceptrons per layer\n",
        "If we have $m$ perceptrons in a single layer, for example layer 2:\n",
        "<img src=\"https://sites.wustl.edu/scao/files/2021/02/neural_net_3-layer.png\" alt=\"drawing\" width=\"800\"/>\n",
        "\n",
        "Our neural network has parameters $(W, b) := \\big(W^{(1)},b^{(1)},W^{(2)},b^{(2)}\\big)$.\n",
        "\n",
        "* $W^{(l)} = \\big(w^{(l)}_{ij}\\big)$ to denote the weight matrix, where the entry-$ij$ is associated with the connection between unit $j$ in layer $l$, and unit $i$ in layer $l+1$. Note the order of the indices, $j$ is the closer to the input that this matrix is acting on \n",
        "\n",
        "* $b^{(l)}_i$ is the bias associated with unit $i$ in layer $l+1$. \n",
        "\n",
        "In our example above, we have $W^{(1)}\\in \\mathbb{R}^{3×2}$, and $W^{(2)}\\in \\mathbb{R}^{1×3}$. Note that bias units do not have inputs or connections going into them, we write their output the value $+1$ for convenience. When we count the number of units in layer $l$, we do not count the bias unit.\n",
        "\n"
      ]
    },
    {
      "cell_type": "markdown",
      "metadata": {
        "id": "JVs70GYD0fcj"
      },
      "source": [
        "## Matrix-vector representation\n",
        "If we allow the activation function $f(\\cdot)$ to act on vectors in an element-wise fashion: $f([\\mathbf{z}_1,\\mathbf{z}_2,\\mathbf{z}_3])=[f(\\mathbf{z}_1),f(\\mathbf{z}_3),f(\\mathbf{z}_3)]$, then we can write the equations above more compactly as:\n",
        "$$\\begin{aligned}\n",
        "\\mathbf{z}^{(2)} &= W^{(1)} \\mathbf{x} + \\mathbf{b}^{(1)} \\\\\n",
        "\\mathbf{a}^{(2)} &= f(\\mathbf{z}^{(2)}) \\\\\n",
        "\\mathbf{z}^{(3)} &= W^{(2)} \\mathbf{a}^{(2)} + \\mathbf{b}^{(2)} \\\\\n",
        "h(\\mathbf{x}; W, b) &= \\mathbf{a}^{(3)} = \\mathbf{z}^{(3)}\n",
        "\\end{aligned}\n",
        "$$\n",
        "More generally, if we have an arbitrary number of layers, recalling that $\\mathbf{a}^{(0)}=\\mathbf{x}$ also denotes the values from the input layer, then given layer $l$'s activations $\\mathbf{a}^{(l)}$, we can compute layer $(l+1)$'s activations $\\mathbf{a}^{(l+1)}$ as:\n",
        "$$\n",
        "\\begin{aligned}\n",
        "\\mathbf{z}^{(l+1)} &= W^{(l)} \\mathbf{a}^{(l)} + \\mathbf{b}^{(l)}   \\\\\n",
        "\\mathbf{a}^{(l+1)} &= f(\\mathbf{z}^{(l+1)}),\n",
        "\\end{aligned}\n",
        "$$\n",
        "except the last layer where we do not need any activation.\n",
        "By organizing the parameters in matrices and using matrix-vector operations, we can take advantage of fast linear algebra routines to quickly perform calculations in our network."
      ]
    },
    {
      "cell_type": "code",
      "metadata": {
        "id": "g52kI59TyvX5",
        "colab": {
          "base_uri": "https://localhost:8080/"
        },
        "outputId": "8513b08e-b86f-4893-cecc-65d7bd0fc074"
      },
      "source": [
        "# generate all the x, z, a variables above\n",
        "x = torch.tensor([0., 1.]).view(-1, 1) \n",
        "# add a singleton dimension to a vector\n",
        "print(x)\n",
        "W1 = torch.randn( (3,2) )\n",
        "b1 = torch.randn( (3,1) )\n",
        "print(W1)\n",
        "z2 = W1.mm(x) + b1 # Wx+b\n",
        "print(z2)"
      ],
      "execution_count": null,
      "outputs": [
        {
          "output_type": "stream",
          "text": [
            "tensor([[0.],\n",
            "        [1.]])\n",
            "tensor([[ 0.9907, -0.2160],\n",
            "        [ 0.1002, -2.2680],\n",
            "        [ 2.4253,  0.3178]])\n",
            "tensor([[-0.1301],\n",
            "        [-1.3717],\n",
            "        [ 0.9358]])\n"
          ],
          "name": "stdout"
        }
      ]
    },
    {
      "cell_type": "code",
      "metadata": {
        "colab": {
          "base_uri": "https://localhost:8080/"
        },
        "id": "FqaD1y2VJbR0",
        "outputId": "574d2e8c-5c8c-4d28-e6d3-ae26b29207d7"
      },
      "source": [
        "# activation\n",
        "a2 = z2[z2>0]\n",
        "print(a2) # returns only the positive number\n",
        "a2 = z2.clamp(min=0)\n",
        "print(a2)"
      ],
      "execution_count": null,
      "outputs": [
        {
          "output_type": "stream",
          "text": [
            "tensor([0.9358])\n",
            "tensor([[0.0000],\n",
            "        [0.0000],\n",
            "        [0.9358]])\n"
          ],
          "name": "stdout"
        }
      ]
    },
    {
      "cell_type": "code",
      "metadata": {
        "id": "wUS2o3NG3Ko2"
      },
      "source": [
        "# from input to first layer (hidden layer)"
      ],
      "execution_count": null,
      "outputs": []
    },
    {
      "cell_type": "code",
      "metadata": {
        "id": "QtD7pojv5P7z"
      },
      "source": [
        "# from the first layer to the output layer"
      ],
      "execution_count": null,
      "outputs": []
    },
    {
      "cell_type": "markdown",
      "metadata": {
        "id": "ilVYNAK-7P_v"
      },
      "source": [
        "## Actual data in batch\n",
        "\n",
        "In the actual implementation, the data normaly comes in batch, i.e., a matrix. For example, input is a matrix $X \\in \\mathbb{R}^{N \\times d}$, $N$ is a number of samples in a batch, each row represents a sample $\\mathbf{x} \\in \\mathbb{R}^{1\\times d}$. The weight matrix $W$ is actually formulated as:\n",
        "$$\n",
        "W = \\left(\n",
        "\\begin{array}{cccc}| & | & | & | \\\\\n",
        "\\mathbf{w}_1 & \\mathbf{w}_2 & \\cdots & \\mathbf{w}_m \\\\\n",
        "| & | & | & |\n",
        "\\end{array}\\right),\n",
        "$$\n",
        "if the output dimension of the layer of interest is $m$. The vectorized formulation is, for example, from the input (layer 0, dimension $d$) to layer 1 (dimension $m$)\n",
        "$$\n",
        "A^{(1)} = X (W^{(0)})^{\\top} + B\n",
        "$$\n",
        "where $X \\in \\mathbb{R}^{N \\times d}$, $W^{(0)} \\in \\mathbb{R}^{m\\times d}$ (input from $d$ perceptrons, output from $m$ perceptrons), $B$ is a matrix with each row being the same $\\mathbf{b} \\in \\mathbb{R}^{1\\times m}$ (layer 1 has $m$ perceptrons and has $m$ biases if applicable).\n",
        "\n",
        "## Torch's nn module\n",
        "\n",
        "We will demo this batch-based operation using `torch`'s neural network module `nn`. `nn.Linear` applies an (affine) linear transformation to the incoming data:\n",
        "$$\n",
        "Y = X W^{\\top} + \\mathbf{b}\n",
        "$$\n",
        "\n",
        "Reference: https://pytorch.org/docs/stable/nn.html"
      ]
    },
    {
      "cell_type": "code",
      "metadata": {
        "id": "fbvdVRdM6r64"
      },
      "source": [
        "import torch.nn as nn"
      ],
      "execution_count": null,
      "outputs": []
    },
    {
      "cell_type": "code",
      "metadata": {
        "colab": {
          "base_uri": "https://localhost:8080/"
        },
        "id": "FNkIeejp6uX_",
        "outputId": "7c69702c-6a61-47fc-81bd-9e025f1e1387"
      },
      "source": [
        "# Linear layer example\n",
        "layer = nn.Linear(4, 3) # Wx+b transforms (4,1) vector to (3,1) vector\n",
        "input = torch.randn(32, 4) # 32 samples, each sample has 4 features\n",
        "print(input)"
      ],
      "execution_count": null,
      "outputs": [
        {
          "output_type": "stream",
          "text": [
            "tensor([[-1.1355, -2.4036,  0.7420,  1.1788],\n",
            "        [-0.9597, -1.2805,  0.3954,  1.0836],\n",
            "        [-0.5114, -1.2134,  0.4472, -0.2437],\n",
            "        [ 0.0647,  0.7331,  1.4567, -1.6784],\n",
            "        [ 0.2293, -0.3503,  0.6469,  0.4768],\n",
            "        [-0.0895, -1.3557, -0.9072, -0.3229],\n",
            "        [ 0.8917,  0.0797,  0.2411, -2.2043],\n",
            "        [-0.1207,  1.1065,  0.9592,  0.1088],\n",
            "        [-0.3837, -0.0036, -1.0944,  0.5760],\n",
            "        [-0.8434,  0.6975,  0.2265,  1.6542],\n",
            "        [ 0.3379,  0.3547, -1.9871, -2.1632],\n",
            "        [ 1.9732,  0.1704,  0.2612,  1.1806],\n",
            "        [-0.8772,  0.9680,  1.6261,  1.0237],\n",
            "        [ 0.4438, -0.8438, -0.6925, -0.0930],\n",
            "        [-0.1747,  1.8252, -1.0535,  0.0892],\n",
            "        [ 0.9088, -1.7673, -0.0186,  0.8402],\n",
            "        [-1.2256,  1.8405, -0.3412, -0.6917],\n",
            "        [-1.6789,  2.0006, -0.0667,  0.8853],\n",
            "        [ 1.0742,  0.8501, -1.1665, -1.1089],\n",
            "        [ 1.1039, -0.5737,  1.8888, -2.7325],\n",
            "        [-0.2516, -1.3357,  0.0212,  1.1498],\n",
            "        [-0.1276,  1.7405, -0.7649, -0.3159],\n",
            "        [-0.6383,  0.6797, -0.5781, -0.1876],\n",
            "        [ 0.7368, -0.5672,  0.7622, -1.1193],\n",
            "        [ 0.0369, -0.4690, -0.4856,  0.8855],\n",
            "        [ 0.9239,  0.6232,  1.5908, -0.3915],\n",
            "        [-0.0554, -0.4736, -1.7382,  0.0192],\n",
            "        [-0.2279, -1.1939, -0.0557,  2.3918],\n",
            "        [-1.1766, -0.9031,  0.4376, -0.4596],\n",
            "        [-0.9889, -0.6538,  0.2241, -1.2218],\n",
            "        [ 0.7065, -0.6614, -0.9286, -0.5547],\n",
            "        [ 0.9776,  1.7292, -0.1009, -0.2423]])\n"
          ],
          "name": "stdout"
        }
      ]
    },
    {
      "cell_type": "code",
      "metadata": {
        "colab": {
          "base_uri": "https://localhost:8080/"
        },
        "id": "QegIVQL1KIpy",
        "outputId": "c91de07a-0991-4ed9-c128-89402193c8cf"
      },
      "source": [
        "output = layer(input)\n",
        "print(output.size())\n",
        "print(output)"
      ],
      "execution_count": null,
      "outputs": [
        {
          "output_type": "stream",
          "text": [
            "torch.Size([32, 3])\n",
            "tensor([[-1.6478,  1.5332, -0.6837],\n",
            "        [-1.1449,  1.1176, -0.2567],\n",
            "        [-0.8056,  1.0426, -0.2656],\n",
            "        [ 0.4978,  0.3489, -0.2216],\n",
            "        [-0.1824,  0.4108, -0.5308],\n",
            "        [-0.8561,  0.9125,  0.1625],\n",
            "        [ 0.4602,  0.2597, -0.1179],\n",
            "        [ 0.3510,  0.1334, -0.0532],\n",
            "        [-0.5216,  0.5214,  0.6412],\n",
            "        [-0.3496,  0.3978,  0.2650],\n",
            "        [ 0.0590,  0.3697,  1.2461],\n",
            "        [ 0.6387, -0.5195, -1.0481],\n",
            "        [-0.0160,  0.3999, -0.2131],\n",
            "        [-0.4177,  0.5197, -0.0526],\n",
            "        [ 0.3726, -0.0873,  1.1313],\n",
            "        [-0.6082,  0.5409, -0.9713],\n",
            "        [ 0.1077,  0.4088,  1.3626],\n",
            "        [-0.1206,  0.3945,  1.2499],\n",
            "        [ 0.5765, -0.1708,  0.5355],\n",
            "        [ 0.5341,  0.4447, -1.1011],\n",
            "        [-0.9299,  0.8416, -0.4100],\n",
            "        [ 0.4303, -0.0387,  1.0079],\n",
            "        [-0.2079,  0.4867,  0.8137],\n",
            "        [ 0.0960,  0.4268, -0.6392],\n",
            "        [-0.4921,  0.4753, -0.0060],\n",
            "        [ 0.7064, -0.0803, -0.8695],\n",
            "        [-0.6128,  0.5829,  0.7470],\n",
            "        [-0.9838,  0.6703, -0.5196],\n",
            "        [-0.9323,  1.2321,  0.1457],\n",
            "        [-0.7096,  1.1487,  0.3466],\n",
            "        [-0.2220,  0.3987,  0.0644],\n",
            "        [ 0.9585, -0.4779,  0.2053]], grad_fn=<AddmmBackward>)\n"
          ],
          "name": "stdout"
        }
      ]
    },
    {
      "cell_type": "markdown",
      "metadata": {
        "id": "mmhubnX-5ywT"
      },
      "source": [
        "# MNIST\n",
        "\n",
        "\"MNIST (\"Modified National Institute of Standards and Technology\") is the de facto “hello world” dataset of computer vision. Since its release in 1999, this classic dataset of handwritten images has served as the basis for benchmarking classification algorithms. As new machine learning techniques emerge, MNIST remains a reliable resource for researchers and learners alike.\"\n",
        "\n",
        "[Read more.](https://www.kaggle.com/c/digit-recognizer)\n",
        "\n",
        "\n",
        "<a title=\"By Josef Steppan [CC BY-SA 4.0 (https://creativecommons.org/licenses/by-sa/4.0)], from Wikimedia Commons\" href=\"https://commons.wikimedia.org/wiki/File:MnistExamples.png\"><img width=\"512\" alt=\"MnistExamples\" src=\"https://upload.wikimedia.org/wikipedia/commons/2/27/MnistExamples.png\"/></a>\n",
        "\n",
        "This code is adopted from the pytorch examples repository. \n",
        "It is licensed under BSD 3-Clause \"New\" or \"Revised\" License.\n",
        "Source: https://github.com/pytorch/examples/\n",
        "LICENSE: https://github.com/pytorch/examples/blob/master/LICENSE\n"
      ]
    },
    {
      "cell_type": "code",
      "metadata": {
        "id": "xVC2HKSH79Kx"
      },
      "source": [
        "from __future__ import print_function\n",
        "from torchvision import datasets, transforms\n",
        "from torch.utils.data import DataLoader\n",
        "from torchvision.utils import make_grid\n",
        "import matplotlib.pyplot as plt\n"
      ],
      "execution_count": null,
      "outputs": []
    },
    {
      "cell_type": "code",
      "metadata": {
        "id": "dQ--T0wp8Mzz"
      },
      "source": [
        "train = datasets.MNIST('../data', train=True, download=True, transform = transforms.ToTensor())"
      ],
      "execution_count": null,
      "outputs": []
    },
    {
      "cell_type": "code",
      "metadata": {
        "id": "jxyZFSpU8aD_"
      },
      "source": [
        "train_loader = DataLoader(train, batch_size=1, shuffle=True, num_workers=2,)"
      ],
      "execution_count": null,
      "outputs": []
    },
    {
      "cell_type": "code",
      "metadata": {
        "id": "3hZIuUgO82se"
      },
      "source": [
        "data_iter = iter(train_loader)\n",
        "images, labels = next(data_iter)"
      ],
      "execution_count": null,
      "outputs": []
    },
    {
      "cell_type": "code",
      "metadata": {
        "id": "q2PTbAit9N65"
      },
      "source": [
        "im = make_grid(images)\n",
        "plt.imshow(np.transpose(im.numpy(), (1, 2, 0)))"
      ],
      "execution_count": null,
      "outputs": []
    },
    {
      "cell_type": "code",
      "metadata": {
        "id": "V_sxp2G39zFG"
      },
      "source": [
        ""
      ],
      "execution_count": null,
      "outputs": []
    }
  ]
}