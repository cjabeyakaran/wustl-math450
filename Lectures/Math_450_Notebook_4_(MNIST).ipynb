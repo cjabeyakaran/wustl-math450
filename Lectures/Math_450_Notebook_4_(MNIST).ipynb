{
  "nbformat": 4,
  "nbformat_minor": 0,
  "metadata": {
    "colab": {
      "name": "Math 450 Notebook 4 (MNIST).ipynb",
      "provenance": [],
      "collapsed_sections": [],
      "authorship_tag": "ABX9TyOSCeCsiG+VjhPD43vrBB26",
      "include_colab_link": true
    },
    "kernelspec": {
      "name": "python3",
      "display_name": "Python 3"
    }
  },
  "cells": [
    {
      "cell_type": "markdown",
      "metadata": {
        "id": "view-in-github",
        "colab_type": "text"
      },
      "source": [
        "<a href=\"https://colab.research.google.com/github/scaomath/wustl-math450/blob/main/Lectures/Math_450_Notebook_4_(MNIST).ipynb\" target=\"_parent\"><img src=\"https://colab.research.google.com/assets/colab-badge.svg\" alt=\"Open In Colab\"/></a>"
      ]
    },
    {
      "cell_type": "markdown",
      "metadata": {
        "id": "48w_npTw3YnX"
      },
      "source": [
        "# Coding lecture 4 of Math 450\n",
        "\n",
        "Overall goal of the our class: make us learn machine learning in torch package.\n",
        "- Build our own neural net using Torch's LEGO-like blocks.\n",
        "- Write torch-like code from scratch.\n",
        "- Write our own optimizer.\n",
        "\n",
        "## Today's goal\n",
        "\n",
        "- Explore MNIST dataset.\n",
        "- Generator, iterator, `iter()` and `next()`\n",
        "- `enumerate`.\n",
        "- f-string and `with`."
      ]
    },
    {
      "cell_type": "markdown",
      "metadata": {
        "id": "wpJmbi4h5Gz5"
      },
      "source": [
        "## Dataset\n",
        "\n",
        "\n",
        "\"MNIST (\"Modified National Institute of Standards and Technology\") is the de facto “hello world” dataset of computer vision. Since its release in 1999, this classic dataset of handwritten images has served as the basis for benchmarking classification algorithms. As new machine learning techniques emerge, MNIST remains a reliable resource for researchers and learners alike.\"\n",
        "\n",
        "Read more:[https://www.kaggle.com/c/digit-recognizer](https://www.kaggle.com/c/digit-recognizer)\n",
        "\n",
        "\n",
        "<a title=\"By Josef Steppan [CC BY-SA 4.0 (https://creativecommons.org/licenses/by-sa/4.0)], from Wikimedia Commons\" href=\"https://commons.wikimedia.org/wiki/File:MnistExamples.png\"><img width=\"512\" alt=\"MnistExamples\" src=\"https://upload.wikimedia.org/wikipedia/commons/2/27/MnistExamples.png\"/></a>\n",
        "\n",
        "\n",
        "---- \n",
        "This code is adopted from the pytorch examples repository. \n",
        "It is licensed under BSD 3-Clause \"New\" or \"Revised\" License.\n",
        "Source: https://github.com/pytorch/examples/\n",
        "LICENSE: https://github.com/pytorch/examples/blob/master/LICENSE"
      ]
    },
    {
      "cell_type": "code",
      "metadata": {
        "id": "agbgRb7f5FjW"
      },
      "source": [
        "import numpy as np\n",
        "import torch\n",
        "\n",
        "# import torchvision \n",
        "from torchvision import datasets, transforms\n",
        "from torch.utils.data import DataLoader\n",
        "from torchvision.utils import make_grid\n",
        "\n",
        "# import packages that help us plot\n",
        "import matplotlib.pyplot as plt\n",
        "import seaborn as sns\n",
        "sns.set_style(\"dark\")"
      ],
      "execution_count": null,
      "outputs": []
    },
    {
      "cell_type": "code",
      "metadata": {
        "id": "UnfdXheR5peD"
      },
      "source": [
        "# download the data\n",
        "train = datasets.MNIST('../data', train=True, download=True, transform = transforms.ToTensor())"
      ],
      "execution_count": null,
      "outputs": []
    },
    {
      "cell_type": "markdown",
      "metadata": {
        "id": "ZMgeidJa6NlG"
      },
      "source": [
        "## Dataloader in torch\n",
        "\n",
        "- Dataloader is a generator."
      ]
    },
    {
      "cell_type": "code",
      "metadata": {
        "id": "xxXhf-T85wPc"
      },
      "source": [
        "# put the data into a loader, every iteration 1 sample is loaded\n",
        "train_loader = DataLoader(train, batch_size=1, shuffle=True, num_workers=2,)"
      ],
      "execution_count": null,
      "outputs": []
    },
    {
      "cell_type": "code",
      "metadata": {
        "id": "ian4UPQD52l3"
      },
      "source": [
        "data_iter = iter(train_loader) # set the loader to be an iterator\n",
        "images, labels = next(data_iter) # next returns the next item in an iterator"
      ],
      "execution_count": null,
      "outputs": []
    },
    {
      "cell_type": "markdown",
      "metadata": {
        "id": "9zL2aZYR6fPp"
      },
      "source": [
        "## Generator simple example\n",
        "\n",
        "- Key word `yield` is like `return` but the function is now a generator.\n",
        "- Generator loads data into memory whenever needed, instead of all of them at once."
      ]
    },
    {
      "cell_type": "code",
      "metadata": {
        "id": "7ZvHSdYk6edB"
      },
      "source": [
        "def sequence():\n",
        "    n = 0\n",
        "    while True:\n",
        "        yield n\n",
        "        n += 1"
      ],
      "execution_count": null,
      "outputs": []
    },
    {
      "cell_type": "code",
      "metadata": {
        "id": "ENQ71Mpr6t64"
      },
      "source": [
        "for i in sequence():\n",
        "  print(i, end=\" \") # do not attempt this at your local computer"
      ],
      "execution_count": null,
      "outputs": []
    },
    {
      "cell_type": "code",
      "metadata": {
        "id": "ka50h9QK6yw_"
      },
      "source": [
        "f = sequence() # what type is this \"function\""
      ],
      "execution_count": null,
      "outputs": []
    },
    {
      "cell_type": "code",
      "metadata": {
        "id": "ERckpADZ69o_"
      },
      "source": [
        "# simple iterator example using a torch tensor\n",
        "x = torch.randn(10,2)"
      ],
      "execution_count": null,
      "outputs": []
    },
    {
      "cell_type": "markdown",
      "metadata": {
        "id": "0PHh_fK476a1"
      },
      "source": [
        "## Visualize what is `image`"
      ]
    },
    {
      "cell_type": "code",
      "metadata": {
        "colab": {
          "base_uri": "https://localhost:8080/"
        },
        "id": "tmtJ98ZL75j4",
        "outputId": "c11255cf-6f6d-477e-a216-cbe7d0aac0c8"
      },
      "source": [
        "images.shape"
      ],
      "execution_count": null,
      "outputs": []
    },
    {
      "cell_type": "code",
      "metadata": {
        "colab": {
          "base_uri": "https://localhost:8080/",
          "height": 290
        },
        "id": "GCFjT_ut78tY",
        "outputId": "2073e389-a4fe-4fe1-88ea-8d4ff7d3568e"
      },
      "source": [
        "image = images[0].squeeze()\n",
        "label = labels.squeeze()\n",
        "_, ax = plt.subplots(1)\n",
        "ax.imshow(image, cmap='gray'); \n",
        "ax.set_title(f'Label: {label}', color= 'black', fontsize=25);"
      ],
      "execution_count": null,
      "outputs": []
    },
    {
      "cell_type": "code",
      "metadata": {
        "colab": {
          "base_uri": "https://localhost:8080/",
          "height": 387
        },
        "id": "uggvDmZL9u70",
        "outputId": "ad8c972d-bc0f-4e48-a609-7cc485e40ced"
      },
      "source": [
        "fig, axes = plt.subplots(2,5, figsize=(12,5))\n",
        "axes = axes.flatten()\n",
        "indices = np.random.randint(0,len(train),size=10)\n",
        "for i, idx in enumerate(indices):\n",
        "    X = train.train_data[idx].clone().detach()/255\n",
        "    y = train.train_labels[idx]\n",
        "    axes[i].imshow(X, cmap='gray')\n",
        "    axes[i].axis('off') # hide the axes ticks\n",
        "    axes[i].set_title(str(int(y)), color= 'black', fontsize=25)\n",
        "plt.show()"
      ],
      "execution_count": null,
      "outputs": []
    },
    {
      "cell_type": "markdown",
      "metadata": {
        "id": "7VVjbSr_9rIc"
      },
      "source": [
        "## Choose a single number sample"
      ]
    },
    {
      "cell_type": "code",
      "metadata": {
        "colab": {
          "base_uri": "https://localhost:8080/"
        },
        "id": "CCxO5qTy8CpG",
        "outputId": "26b0d0e8-2205-4d6c-afcc-8b1796c45f5b"
      },
      "source": [
        "idx = (train.train_labels==7)\n",
        "labels_new = train.train_labels[idx]\n",
        "data = train.train_data[idx].clone().detach()/255"
      ],
      "execution_count": null,
      "outputs": []
    },
    {
      "cell_type": "code",
      "metadata": {
        "colab": {
          "base_uri": "https://localhost:8080/"
        },
        "id": "YSowU1pC8LDU",
        "outputId": "bde8a4fe-164e-43b7-9134-efb1ed48cd30"
      },
      "source": [
        "n_data_all = len(data)\n",
        "idx = np.random.choice(range(n_data_all), size=10)\n",
        "data_new = data[idx]"
      ],
      "execution_count": null,
      "outputs": []
    },
    {
      "cell_type": "markdown",
      "metadata": {
        "id": "lbQ9ciJo-kiE"
      },
      "source": [
        "## Example of enumerate\n",
        "- `enumerate` is built-in counter function for iterations."
      ]
    },
    {
      "cell_type": "code",
      "metadata": {
        "id": "ZTcNA0Tl-j1v"
      },
      "source": [
        "# example of manual counter\n",
        "samples = data[:10]"
      ],
      "execution_count": null,
      "outputs": []
    },
    {
      "cell_type": "markdown",
      "metadata": {
        "id": "ANOfaF4U_Q1P"
      },
      "source": [
        "## Resize the MNIST data\n",
        "\n",
        "- Reshape each sample into a vector that a neural network can take as an input (later we will have a convolutional NN that takes images as inputs). "
      ]
    },
    {
      "cell_type": "code",
      "metadata": {
        "id": "aSQQJJUO_fD8"
      },
      "source": [
        "# demo a single image"
      ],
      "execution_count": null,
      "outputs": []
    },
    {
      "cell_type": "code",
      "metadata": {
        "id": "Zdl5WIUK_jWr"
      },
      "source": [
        "# demo a batch"
      ],
      "execution_count": null,
      "outputs": []
    },
    {
      "cell_type": "markdown",
      "metadata": {
        "id": "2trnix7k_m6y"
      },
      "source": [
        "## Context\n",
        "\n",
        "In homework 2, we will see a keyword:\n",
        "```python\n",
        "with torch.no_grad():\n",
        "    blahblahblah\n",
        "```\n",
        "\n",
        "What is this `with` keyword here?\n",
        "\n",
        "- Example build a simple timer wrapper using the context manager decorator."
      ]
    },
    {
      "cell_type": "code",
      "metadata": {
        "id": "OtM1yBJZ_2Q9"
      },
      "source": [
        "from contextlib import contextmanager\n",
        "from time import time"
      ],
      "execution_count": null,
      "outputs": []
    },
    {
      "cell_type": "code",
      "metadata": {
        "id": "S-KIpSFyALfm"
      },
      "source": [
        "@contextmanager\n",
        "def timer(task_name):\n",
        "    start = time()\n",
        "    yield None\n",
        "    print(f\"{task_name} - done in {time() - start:.6f} seconds. \\n\")"
      ],
      "execution_count": null,
      "outputs": []
    },
    {
      "cell_type": "code",
      "metadata": {
        "id": "vFek7NRNA3TO"
      },
      "source": [
        "# demo the matrix-vector multiplication\n",
        "A = torch.randn(10000, 5)\n",
        "b = torch.randn(5, 1)"
      ],
      "execution_count": null,
      "outputs": []
    },
    {
      "cell_type": "code",
      "metadata": {
        "id": "HyTyXIx-BeuE"
      },
      "source": [],
      "execution_count": null,
      "outputs": []
    },
    {
      "cell_type": "markdown",
      "metadata": {
        "id": "aXVP2MD1BmoM"
      },
      "source": [
        "## Sharing my own fancy timer function\n",
        "\n",
        "Reference:\n",
        "- https://stackoverflow.com/questions/552744/how-do-i-profile-memory-usage-in-python"
      ]
    },
    {
      "cell_type": "code",
      "metadata": {
        "id": "89j7j9KhBmKp"
      },
      "source": [
        "import psutil\n",
        "import os\n",
        "import math\n",
        "\n",
        "class Colors:\n",
        "    \"\"\"Defining Color Codes to color the text displayed on terminal.\n",
        "    \"\"\"\n",
        "\n",
        "    blue = \"\\033[94m\"\n",
        "    green = \"\\033[92m\"\n",
        "    yellow = \"\\033[93m\"\n",
        "    magenta = \"\\033[95m\"\n",
        "    red = \"\\033[91m\"\n",
        "    end = \"\\033[0m\"\n",
        "\n",
        "def color(string: str, color: Colors = Colors.yellow) -> str:\n",
        "    return f\"{color}{string}{Colors.end}\"\n",
        "\n",
        "\n",
        "@contextmanager\n",
        "def fancy_timer(label: str, compact=False) -> None:\n",
        "    '''\n",
        "    print \n",
        "    1. the time the code block takes to run\n",
        "    2. the memory usage.\n",
        "    '''\n",
        "    p = psutil.Process(os.getpid())\n",
        "    m0 = p.memory_info()[0] / 2. ** 30\n",
        "    start = time()  # Setup - __enter__\n",
        "    if not compact:\n",
        "        print(color(f\"{label}: start at {start:.2f};\", color=Colors.blue))\n",
        "        print(color(f\"LOCAL RAM USAGE AT START: {m0:.2f} GB\" , color=Colors.green))\n",
        "        try:\n",
        "            yield  # yield to body of `with` statement\n",
        "        finally:  # Teardown - __exit__\n",
        "            m1 = p.memory_info()[0] / 2. ** 30\n",
        "            delta = m1 - m0\n",
        "            sign = '+' if delta >= 0 else '-'\n",
        "            delta = math.fabs(delta)\n",
        "            end = time()\n",
        "            print(color(f\"{label}: done at {end:.2f} ({end - start:.6f} secs elapsed);\", color=Colors.blue))\n",
        "            print(color(f\"LOCAL RAM USAGE AT END: {m1:.2f}GB ({sign}{delta:.2f}GB)\", color=Colors.green))\n",
        "            print('\\n')\n",
        "    else:\n",
        "        yield\n",
        "        print(color(f\"{label} - done in {time() - start:.6f} seconds. \\n\", color=Colors.blue))"
      ],
      "execution_count": null,
      "outputs": []
    },
    {
      "cell_type": "code",
      "metadata": {
        "id": "A3BC0uOdB5e5"
      },
      "source": [],
      "execution_count": null,
      "outputs": []
    }
  ]
}