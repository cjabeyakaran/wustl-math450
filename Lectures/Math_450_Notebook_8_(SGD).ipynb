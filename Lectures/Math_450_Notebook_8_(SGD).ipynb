{
  "nbformat": 4,
  "nbformat_minor": 0,
  "metadata": {
    "colab": {
      "name": "Math 450 Notebook 8 (SGD).ipynb",
      "provenance": [],
      "collapsed_sections": [],
      "authorship_tag": "ABX9TyPjC3LpR1hyBjiE0fExkrWx",
      "include_colab_link": true
    },
    "kernelspec": {
      "name": "python3",
      "display_name": "Python 3"
    },
    "language_info": {
      "name": "python"
    }
  },
  "cells": [
    {
      "cell_type": "markdown",
      "metadata": {
        "id": "view-in-github",
        "colab_type": "text"
      },
      "source": [
        "<a href=\"https://colab.research.google.com/github/scaomath/wustl-math450/blob/main/Lectures/Math_450_Notebook_8_(SGD).ipynb\" target=\"_parent\"><img src=\"https://colab.research.google.com/assets/colab-badge.svg\" alt=\"Open In Colab\"/></a>"
      ]
    },
    {
      "cell_type": "markdown",
      "metadata": {
        "id": "PJZ07UQUTOCO"
      },
      "source": [
        "# Coding lecture 8 of Math 450\n",
        "\n",
        "## Last three weeks\n",
        "\n",
        "- MNIST\n",
        "- Generator, iterator, `iter()`, `next()`, `enumerate()`, `try: except:` flow control.\n",
        "- Matrix-vector multiplications and \"broadcastability\".\n",
        "- `loss.backward()` vs hand computation.\n",
        "- Why `with torch.no_grad():` is necessary in manual gradient descent computation.\n",
        "- Build simple neural network using `torch.nn.Sequential()`\n",
        "- Gradient descent for a binary classification problem.\n",
        "- Torch `DataLoader` interface for (mini-batch) SGD.\n",
        "\n",
        "# Today\n",
        "- More on class and object-oriented programming. `constructor`, inheritance, the usage of `super`.\n",
        "- PyTorch SGD training complete pipeline template.\n",
        "- A new type: dictionary `dict`."
      ]
    },
    {
      "cell_type": "markdown",
      "metadata": {
        "id": "k8gjAVrkYH8O"
      },
      "source": [
        "# A complete pipeline\n",
        "\n",
        "- Data preparation\n",
        "- Train-Validation (Train-Test) split (will be covered later)\n",
        "- Model\n",
        "- Choose an optimizer or write one on our own.\n",
        "- Choose an scheduler or write one on our own (optional, will be covered later).\n",
        "- Choose the proper loss function.\n",
        "- Train! (and validate at the same time)\n",
        "- Inference (for our final project, will be covered later)."
      ]
    },
    {
      "cell_type": "code",
      "metadata": {
        "id": "1b7eqCbVTMPz"
      },
      "source": [
        "import torch\n",
        "import torch.nn as nn\n",
        "import numpy as np\n",
        "\n",
        "from torchvision import datasets, transforms\n",
        "from torch.utils.data import DataLoader\n",
        "from tqdm.auto import tqdm\n",
        "import matplotlib.pyplot as plt\n",
        "import seaborn as sns\n",
        "sns.set_style(\"dark\")\n",
        "\n",
        "import warnings\n",
        "warnings.filterwarnings(\"ignore\")"
      ],
      "execution_count": 27,
      "outputs": []
    },
    {
      "cell_type": "code",
      "metadata": {
        "colab": {
          "base_uri": "https://localhost:8080/"
        },
        "id": "ge-qWZr48Clu",
        "outputId": "189d0701-bc91-451f-d659-e2935288c3f4"
      },
      "source": [
        "!wget https://sites.wustl.edu/scao/files/2021/03/MNIST.tar_.gz \n",
        "!mv MNIST.tar_.gz MNIST.tar.gz \n",
        "!tar -zxvf MNIST.tar.gz "
      ],
      "execution_count": 28,
      "outputs": [
        {
          "output_type": "stream",
          "text": [
            "--2021-03-26 20:08:53--  https://sites.wustl.edu/scao/files/2021/03/MNIST.tar_.gz\n",
            "Resolving sites.wustl.edu (sites.wustl.edu)... 34.216.237.15, 34.215.37.29\n",
            "Connecting to sites.wustl.edu (sites.wustl.edu)|34.216.237.15|:443... connected.\n",
            "HTTP request sent, awaiting response... 302 Found\n",
            "Location: https://cpb-us-w2.wpmucdn.com/sites.wustl.edu/dist/1/2774/files/2021/03/MNIST.tar_.gz [following]\n",
            "--2021-03-26 20:08:54--  https://cpb-us-w2.wpmucdn.com/sites.wustl.edu/dist/1/2774/files/2021/03/MNIST.tar_.gz\n",
            "Resolving cpb-us-w2.wpmucdn.com (cpb-us-w2.wpmucdn.com)... 151.139.244.23\n",
            "Connecting to cpb-us-w2.wpmucdn.com (cpb-us-w2.wpmucdn.com)|151.139.244.23|:443... connected.\n",
            "HTTP request sent, awaiting response... 200 OK\n",
            "Length: 23197619 (22M) [application/gzip]\n",
            "Saving to: ‘MNIST.tar_.gz’\n",
            "\n",
            "MNIST.tar_.gz       100%[===================>]  22.12M  --.-KB/s    in 0.1s    \n",
            "\n",
            "2021-03-26 20:08:54 (215 MB/s) - ‘MNIST.tar_.gz’ saved [23197619/23197619]\n",
            "\n",
            "./MNIST/\n",
            "./MNIST/processed/\n",
            "./MNIST/raw/\n",
            "./MNIST/raw/train-images-idx3-ubyte\n",
            "./MNIST/raw/train-labels-idx1-ubyte\n",
            "./MNIST/raw/train-images-idx3-ubyte.gz\n",
            "./MNIST/raw/t10k-images-idx3-ubyte.gz\n",
            "./MNIST/raw/train-labels-idx1-ubyte.gz\n",
            "./MNIST/raw/t10k-labels-idx1-ubyte\n",
            "./MNIST/raw/t10k-labels-idx1-ubyte.gz\n",
            "./MNIST/raw/t10k-images-idx3-ubyte\n"
          ],
          "name": "stdout"
        }
      ]
    },
    {
      "cell_type": "code",
      "metadata": {
        "id": "YaYq1GNd7Vn1"
      },
      "source": [
        "train = datasets.MNIST(root='./', \n",
        "                       train=True, \n",
        "                       download=True, \n",
        "                       transform = transforms.ToTensor());"
      ],
      "execution_count": 29,
      "outputs": []
    },
    {
      "cell_type": "code",
      "metadata": {
        "id": "mkqKRzDi7Y26"
      },
      "source": [
        "train_loader = DataLoader(train, batch_size=64)"
      ],
      "execution_count": null,
      "outputs": []
    },
    {
      "cell_type": "code",
      "metadata": {
        "id": "07gNPjxzKAZj"
      },
      "source": [
        "sample = next(iter(train_loader))"
      ],
      "execution_count": 30,
      "outputs": []
    },
    {
      "cell_type": "code",
      "metadata": {
        "colab": {
          "base_uri": "https://localhost:8080/"
        },
        "id": "Cgg3wOswKEkT",
        "outputId": "a7239c44-db86-412f-ceb6-11c19b09ee12"
      },
      "source": [
        "print(sample[0].size()) # (n_batch, n_channel, height, width)\n",
        "# N_C in PyTorch official docs\n",
        "# how many color channels we have, 3 means RGB"
      ],
      "execution_count": 34,
      "outputs": [
        {
          "output_type": "stream",
          "text": [
            "torch.Size([64, 1, 28, 28])\n"
          ],
          "name": "stdout"
        }
      ]
    },
    {
      "cell_type": "code",
      "metadata": {
        "colab": {
          "base_uri": "https://localhost:8080/"
        },
        "id": "W8407X-5Kjve",
        "outputId": "06a16a58-0f83-467d-a0b1-e90ef14b28c4"
      },
      "source": [
        "print(sample[1].size())\n",
        "print(sample[1][:10])"
      ],
      "execution_count": 37,
      "outputs": [
        {
          "output_type": "stream",
          "text": [
            "torch.Size([64])\n",
            "tensor([5, 0, 4, 1, 9, 2, 1, 3, 1, 4])\n"
          ],
          "name": "stdout"
        }
      ]
    },
    {
      "cell_type": "code",
      "metadata": {
        "id": "cJpd2ka3ABzX"
      },
      "source": [
        "class MLP(nn.Module): # subclass of nn.Module \n",
        "    def __init__(self, \n",
        "                 input_size: int):\n",
        "        '''\n",
        "        __init__: initialize\n",
        "        afterward, constructors\n",
        "        '''\n",
        "        super(MLP, self).__init__() \n",
        "        # let MLP class inherit everything from nn.Module\n",
        "        self.linear0 = nn.Linear(input_size, 256)\n",
        "        self.activation = nn.ReLU()\n",
        "        self.linear1 = nn.Linear(256, 10)\n",
        "        \n",
        "    def forward(self, x): \n",
        "      # forward is a \"fixed\" method from nn.Module\n",
        "      # this is different from @staticmethod\n",
        "      # the behavior of model(x) \n",
        "\n",
        "        x = x.view(x.size(0), -1) # getting rid of color channel\n",
        "        x1 = self.linear0(x)\n",
        "        a1 = self.activation(x1)\n",
        "        output = self.linear1(a1)\n",
        "\n",
        "        return output"
      ],
      "execution_count": 54,
      "outputs": []
    },
    {
      "cell_type": "code",
      "metadata": {
        "colab": {
          "base_uri": "https://localhost:8080/"
        },
        "id": "XmLhBr1-MJZW",
        "outputId": "308ef08c-b41c-46d9-fa0a-fe3ed6610d4d"
      },
      "source": [
        "# explicit forward\n",
        "x = sample[0] # data fed into the model\n",
        "print(\"input data: \", x.size())\n",
        "\n",
        "x = x.view(x.size(0), -1) # getting rid of color channel\n",
        "print(\"reshape to remove channels: \", x.size())\n",
        "\n",
        "input_size = x.size(-1)\n",
        "print(\"x's last dim size: \", input_size)\n",
        "linear0 = nn.Linear(input_size, 256)\n",
        "x1 = linear0(x)\n",
        "print(\"after layer 1: \", x1.size())\n",
        "# batch_size: dim 0 should not change in forward pass\n",
        "\n",
        "activation = nn.ReLU()\n",
        "a1 = activation(x1) # activation does not change the shape\n",
        "\n",
        "linear1 = nn.Linear(256, 10)\n",
        "output = linear1(a1)\n",
        "print(\"output size: \", output.size())\n",
        "\n",
        "# softmax does not need to be implemented if using\n",
        "# nn.CrossEntropyLoss\n",
        "softmax = nn.Softmax(dim=-1)\n",
        "output_prob = softmax(output)"
      ],
      "execution_count": 48,
      "outputs": [
        {
          "output_type": "stream",
          "text": [
            "input data:  torch.Size([64, 1, 28, 28])\n",
            "reshape to remove channels:  torch.Size([64, 784])\n",
            "x's last dim size:  784\n",
            "after layer 1:  torch.Size([64, 256])\n",
            "output size:  torch.Size([64, 10])\n"
          ],
          "name": "stdout"
        }
      ]
    },
    {
      "cell_type": "code",
      "metadata": {
        "colab": {
          "base_uri": "https://localhost:8080/"
        },
        "id": "qza2owV2OEgg",
        "outputId": "5f18a608-87b0-4e0a-aed2-67b28a40ad20"
      },
      "source": [
        "output[:2].detach()"
      ],
      "execution_count": 50,
      "outputs": [
        {
          "output_type": "execute_result",
          "data": {
            "text/plain": [
              "tensor([[ 0.0183,  0.0725, -0.0405, -0.0193,  0.0671, -0.1242,  0.0634, -0.0373,\n",
              "          0.0385, -0.0133],\n",
              "        [-0.0908,  0.0086, -0.0722, -0.0163, -0.0316,  0.0034,  0.0679, -0.1210,\n",
              "          0.0180,  0.1239]])"
            ]
          },
          "metadata": {
            "tags": []
          },
          "execution_count": 50
        }
      ]
    },
    {
      "cell_type": "code",
      "metadata": {
        "colab": {
          "base_uri": "https://localhost:8080/"
        },
        "id": "TA_n7rMFOMBG",
        "outputId": "2d312ada-a88b-4048-c3fe-b9918a5881d3"
      },
      "source": [
        "output_prob[:2].detach()"
      ],
      "execution_count": 51,
      "outputs": [
        {
          "output_type": "execute_result",
          "data": {
            "text/plain": [
              "tensor([[0.1014, 0.1071, 0.0956, 0.0977, 0.1065, 0.0879, 0.1061, 0.0959, 0.1035,\n",
              "         0.0983],\n",
              "        [0.0921, 0.1017, 0.0938, 0.0992, 0.0977, 0.1012, 0.1079, 0.0894, 0.1027,\n",
              "         0.1142]])"
            ]
          },
          "metadata": {
            "tags": []
          },
          "execution_count": 51
        }
      ]
    },
    {
      "cell_type": "code",
      "metadata": {
        "id": "jlL90yAcAUAG"
      },
      "source": [
        "model = MLP(input_size=28*28)"
      ],
      "execution_count": 55,
      "outputs": []
    },
    {
      "cell_type": "code",
      "metadata": {
        "colab": {
          "base_uri": "https://localhost:8080/"
        },
        "id": "Hx_iRvpBLg3y",
        "outputId": "47758323-13be-45c9-ded1-9eee3f4c2c87"
      },
      "source": [
        "y = model(sample[0])\n",
        "print(y.size())"
      ],
      "execution_count": 56,
      "outputs": [
        {
          "output_type": "stream",
          "text": [
            "torch.Size([64, 10])\n"
          ],
          "name": "stdout"
        }
      ]
    },
    {
      "cell_type": "markdown",
      "metadata": {
        "id": "tBIRXf7nAssJ"
      },
      "source": [
        "# Optimizer\n",
        "\n",
        "In this class we will learn how to write an optimizer.\n",
        "\n",
        "#### Reference: \n",
        "Final project start code: https://www.kaggle.com/scaomath/washu-math-450-sp21-final-project-starter#Final-project:-write-our-own-optimizer"
      ]
    },
    {
      "cell_type": "code",
      "metadata": {
        "id": "oDycf51BAja_"
      },
      "source": [
        "from torch.optim import Optimizer"
      ],
      "execution_count": 57,
      "outputs": []
    },
    {
      "cell_type": "code",
      "metadata": {
        "colab": {
          "base_uri": "https://localhost:8080/"
        },
        "id": "GdxvoIKFO4aK",
        "outputId": "a30c6277-0e5c-44c7-b94b-98534347274b"
      },
      "source": [
        "dir(torch.optim)"
      ],
      "execution_count": 59,
      "outputs": [
        {
          "output_type": "execute_result",
          "data": {
            "text/plain": [
              "['ASGD',\n",
              " 'Adadelta',\n",
              " 'Adagrad',\n",
              " 'Adam',\n",
              " 'AdamW',\n",
              " 'Adamax',\n",
              " 'LBFGS',\n",
              " 'Optimizer',\n",
              " 'RMSprop',\n",
              " 'Rprop',\n",
              " 'SGD',\n",
              " 'SparseAdam',\n",
              " '__builtins__',\n",
              " '__cached__',\n",
              " '__doc__',\n",
              " '__file__',\n",
              " '__loader__',\n",
              " '__name__',\n",
              " '__package__',\n",
              " '__path__',\n",
              " '__spec__',\n",
              " '_functional',\n",
              " '_multi_tensor',\n",
              " 'lr_scheduler',\n",
              " 'swa_utils']"
            ]
          },
          "metadata": {
            "tags": []
          },
          "execution_count": 59
        }
      ]
    },
    {
      "cell_type": "code",
      "metadata": {
        "colab": {
          "base_uri": "https://localhost:8080/"
        },
        "id": "18NQHte5PA_k",
        "outputId": "560001df-bca3-4e45-8b2c-cd1a94236c52"
      },
      "source": [
        "dir(torch.optim.lr_scheduler)"
      ],
      "execution_count": 60,
      "outputs": [
        {
          "output_type": "execute_result",
          "data": {
            "text/plain": [
              "['CosineAnnealingLR',\n",
              " 'CosineAnnealingWarmRestarts',\n",
              " 'Counter',\n",
              " 'CyclicLR',\n",
              " 'EPOCH_DEPRECATION_WARNING',\n",
              " 'ExponentialLR',\n",
              " 'LambdaLR',\n",
              " 'MultiStepLR',\n",
              " 'MultiplicativeLR',\n",
              " 'OneCycleLR',\n",
              " 'Optimizer',\n",
              " 'ReduceLROnPlateau',\n",
              " 'StepLR',\n",
              " '_LRScheduler',\n",
              " '__builtins__',\n",
              " '__cached__',\n",
              " '__doc__',\n",
              " '__file__',\n",
              " '__loader__',\n",
              " '__name__',\n",
              " '__package__',\n",
              " '__spec__',\n",
              " 'bisect_right',\n",
              " 'inf',\n",
              " 'math',\n",
              " 'types',\n",
              " 'warnings',\n",
              " 'weakref',\n",
              " 'wraps']"
            ]
          },
          "metadata": {
            "tags": []
          },
          "execution_count": 60
        }
      ]
    },
    {
      "cell_type": "code",
      "metadata": {
        "id": "r5riw-HrA_9Q"
      },
      "source": [
        "class SGD(Optimizer): # subclass of Optimizer\n",
        "    \"\"\"\n",
        "    Implements the vanilla SGD simplified \n",
        "    from the torch official one\n",
        "    for Math 450 WashU\n",
        "    \n",
        "    Args:\n",
        "        params (iterable): iterable of parameters to optimize or dicts defining\n",
        "            parameter groups\n",
        "        lr (float): learning rate\n",
        "        \n",
        "    Example:\n",
        "        >>> optimizer = SGD(model.parameters(), lr=1e-2)\n",
        "        >>> optimizer.zero_grad()\n",
        "        >>> loss_fn(model(input), target).backward()\n",
        "        >>> optimizer.step()\n",
        "    \"\"\"\n",
        "\n",
        "    def __init__(self, params, # params: model.parameters()\n",
        "                       lr: float = 1e-3, # input: type = value\n",
        "                       name_input: str = 'SGD'\n",
        "                 ): \n",
        "        # constructor\n",
        "        defaults = dict(lr=lr, name=name_input) \n",
        "        # add a default attribute that can be accessed\n",
        "        super(SGD, self).__init__(params, defaults)\n",
        "\n",
        "    def step(self, closure=None): \n",
        "      # we can ignore closure for now, useful in quasi-Newton\n",
        "        \n",
        "      for group in self.param_groups: # fixed in template\n",
        "\n",
        "          for param in group['params']:\n",
        "              if param.grad is None:\n",
        "                  continue\n",
        "              grad_param = param.grad.data\n",
        "\n",
        "              param.data -= group['lr']*grad_param\n",
        "\n",
        "      return loss"
      ],
      "execution_count": 79,
      "outputs": []
    },
    {
      "cell_type": "code",
      "metadata": {
        "id": "JeDmHQN3P9lB"
      },
      "source": [
        "optimizer = SGD(model.parameters(), lr=learning_rate)"
      ],
      "execution_count": 80,
      "outputs": []
    },
    {
      "cell_type": "code",
      "metadata": {
        "colab": {
          "base_uri": "https://localhost:8080/"
        },
        "id": "eQbNwtfRQAIL",
        "outputId": "09bb79ee-9b0c-4465-c061-9859014db8a1"
      },
      "source": [
        "optimizer.defaults"
      ],
      "execution_count": 81,
      "outputs": [
        {
          "output_type": "execute_result",
          "data": {
            "text/plain": [
              "{'lr': 0.001, 'name': 'SGD'}"
            ]
          },
          "metadata": {
            "tags": []
          },
          "execution_count": 81
        }
      ]
    },
    {
      "cell_type": "markdown",
      "metadata": {
        "id": "-dRmHOKkB-37"
      },
      "source": [
        "# What is a dictionary?\n",
        "\n",
        "- key, value, item.\n",
        "- Two ways of initialization\n",
        "- Every package uses `dict` to store hyperparameter.\n",
        "\n",
        "```python\n",
        "{key1: value1, key2: value2}\n",
        "```"
      ]
    },
    {
      "cell_type": "code",
      "metadata": {
        "id": "xwlJns-TQHhY"
      },
      "source": [
        "dict1 = {'lr': 0.001,  # key: value\n",
        "         'name': 'SGD', \n",
        "         10: 120}"
      ],
      "execution_count": 72,
      "outputs": []
    },
    {
      "cell_type": "code",
      "metadata": {
        "colab": {
          "base_uri": "https://localhost:8080/"
        },
        "id": "RqMeznSWQMSI",
        "outputId": "30daa1d5-d74b-4d53-9c18-1e7aedbc31b9"
      },
      "source": [
        "type(dict1)"
      ],
      "execution_count": 66,
      "outputs": [
        {
          "output_type": "execute_result",
          "data": {
            "text/plain": [
              "dict"
            ]
          },
          "metadata": {
            "tags": []
          },
          "execution_count": 66
        }
      ]
    },
    {
      "cell_type": "code",
      "metadata": {
        "colab": {
          "base_uri": "https://localhost:8080/"
        },
        "id": "vYj96nSSQPRE",
        "outputId": "38c0fe48-c0f9-4ccb-a6fc-aa0c41887b04"
      },
      "source": [
        "for key in dict1.keys():\n",
        "  print(key)"
      ],
      "execution_count": 73,
      "outputs": [
        {
          "output_type": "stream",
          "text": [
            "lr\n",
            "name\n",
            "10\n"
          ],
          "name": "stdout"
        }
      ]
    },
    {
      "cell_type": "code",
      "metadata": {
        "colab": {
          "base_uri": "https://localhost:8080/"
        },
        "id": "5qtTzFOxQv_C",
        "outputId": "90bc2738-633c-4ab8-bc63-b02d1b9ee52f"
      },
      "source": [
        "dict1['lr']"
      ],
      "execution_count": 70,
      "outputs": [
        {
          "output_type": "execute_result",
          "data": {
            "text/plain": [
              "0.001"
            ]
          },
          "metadata": {
            "tags": []
          },
          "execution_count": 70
        }
      ]
    },
    {
      "cell_type": "code",
      "metadata": {
        "colab": {
          "base_uri": "https://localhost:8080/",
          "height": 35
        },
        "id": "RF4-yW1qQ1s-",
        "outputId": "34bff92e-8c41-4b28-d8b0-d3ae04a52f9d"
      },
      "source": [
        "dict1['name']"
      ],
      "execution_count": 74,
      "outputs": [
        {
          "output_type": "execute_result",
          "data": {
            "application/vnd.google.colaboratory.intrinsic+json": {
              "type": "string"
            },
            "text/plain": [
              "'SGD'"
            ]
          },
          "metadata": {
            "tags": []
          },
          "execution_count": 74
        }
      ]
    },
    {
      "cell_type": "code",
      "metadata": {
        "colab": {
          "base_uri": "https://localhost:8080/"
        },
        "id": "nwlhBPWyRBLF",
        "outputId": "ead3dc1c-7bca-4e08-b89f-e0e2f3f480fa"
      },
      "source": [
        "dict1[10]"
      ],
      "execution_count": 75,
      "outputs": [
        {
          "output_type": "execute_result",
          "data": {
            "text/plain": [
              "120"
            ]
          },
          "metadata": {
            "tags": []
          },
          "execution_count": 75
        }
      ]
    },
    {
      "cell_type": "code",
      "metadata": {
        "colab": {
          "base_uri": "https://localhost:8080/"
        },
        "id": "rvYhYMFGRK95",
        "outputId": "90fb57e6-9636-45e6-cba8-169f471f92d4"
      },
      "source": [
        "for item in dict1.items():\n",
        "  print(item)"
      ],
      "execution_count": 76,
      "outputs": [
        {
          "output_type": "stream",
          "text": [
            "('lr', 0.001)\n",
            "('name', 'SGD')\n",
            "(10, 120)\n"
          ],
          "name": "stdout"
        }
      ]
    },
    {
      "cell_type": "code",
      "metadata": {
        "id": "xovc4oChRos-"
      },
      "source": [
        "# using dict function\n",
        "dict2 = dict(shuhao='instructor', \n",
        "             # left hand side becomes a string key\n",
        "             name='math 450',\n",
        "             time=300)"
      ],
      "execution_count": 77,
      "outputs": []
    },
    {
      "cell_type": "code",
      "metadata": {
        "colab": {
          "base_uri": "https://localhost:8080/"
        },
        "id": "WagwpIn0R6av",
        "outputId": "10787682-7d87-4232-e460-2ad6d7b9bd7b"
      },
      "source": [
        "dict2"
      ],
      "execution_count": 78,
      "outputs": [
        {
          "output_type": "execute_result",
          "data": {
            "text/plain": [
              "{'name': 'math 450', 'shuhao': 'instructor', 'time': 300}"
            ]
          },
          "metadata": {
            "tags": []
          },
          "execution_count": 78
        }
      ]
    },
    {
      "cell_type": "code",
      "metadata": {
        "id": "8PGciaDuAb3e"
      },
      "source": [
        "loss_func = nn.CrossEntropyLoss()\n",
        "epochs = 5\n",
        "learning_rate = 1e-3"
      ],
      "execution_count": null,
      "outputs": []
    },
    {
      "cell_type": "code",
      "metadata": {
        "id": "hL9WbE3mCK24"
      },
      "source": [
        "optimizer = SGD(model.parameters(), lr=learning_rate)"
      ],
      "execution_count": null,
      "outputs": []
    },
    {
      "cell_type": "code",
      "metadata": {
        "id": "K7oA-76xCjKs"
      },
      "source": [
        "\n",
        "for epoch in range(epochs):\n",
        "    \n",
        "    model.train()\n",
        "    \n",
        "    loss_vals = []\n",
        "    \n",
        "    with tqdm(total=len(train_loader)) as pbar:\n",
        "      for x, targets in train_loader:\n",
        "          \n",
        "        # forward pass\n",
        "        outputs = model(x)\n",
        "        \n",
        "        # loss function\n",
        "        loss = loss_func(outputs, targets)\n",
        "        \n",
        "        # record loss function values\n",
        "        loss_vals.append(loss.item())\n",
        "        \n",
        "        # clean the gradient from last iteration\n",
        "        optimizer.zero_grad()\n",
        "        \n",
        "        # backprop\n",
        "        loss.backward()\n",
        "        \n",
        "        # gradient descent\n",
        "        optimizer.step()\n",
        "        \n",
        "        # check accuracy\n",
        "\n",
        "        # tqdm template\n",
        "        desc = f\"epoch: [{epoch+1}/{epochs}] loss: {np.mean(loss_vals):.4f}\"\n",
        "        pbar.set_description(desc)\n",
        "        pbar.update()"
      ],
      "execution_count": null,
      "outputs": []
    },
    {
      "cell_type": "code",
      "metadata": {
        "id": "tCoVZDNMCv9C"
      },
      "source": [
        ""
      ],
      "execution_count": null,
      "outputs": []
    }
  ]
}