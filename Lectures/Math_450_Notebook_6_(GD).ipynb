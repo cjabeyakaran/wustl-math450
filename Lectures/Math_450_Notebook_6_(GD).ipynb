{
  "nbformat": 4,
  "nbformat_minor": 0,
  "metadata": {
    "colab": {
      "name": "Math 450 Notebook 6 (GD).ipynb",
      "provenance": [],
      "collapsed_sections": [],
      "mount_file_id": "1UI8xyolmvqnLCZK56bIWAPKq1SewCs-O",
      "authorship_tag": "ABX9TyN4Choy6W4m2W/xx5qfCa4F",
      "include_colab_link": true
    },
    "kernelspec": {
      "name": "python3",
      "display_name": "Python 3"
    },
    "accelerator": "GPU"
  },
  "cells": [
    {
      "cell_type": "markdown",
      "metadata": {
        "id": "view-in-github",
        "colab_type": "text"
      },
      "source": [
        "<a href=\"https://colab.research.google.com/github/scaomath/wustl-math450/blob/main/Lectures/Math_450_Notebook_6_(GD).ipynb\" target=\"_parent\"><img src=\"https://colab.research.google.com/assets/colab-badge.svg\" alt=\"Open In Colab\"/></a>"
      ]
    },
    {
      "cell_type": "code",
      "metadata": {
        "id": "1kpgmh0G4rCF",
        "colab": {
          "base_uri": "https://localhost:8080/"
        },
        "outputId": "6ced4642-c6d4-4690-b8f5-a45ebb5a407b"
      },
      "source": [
        "!wget https://sites.wustl.edu/scao/files/2021/03/MNIST.tar_.gz\n",
        "!mv MNIST.tar_.gz MNIST.tar.gz\n",
        "!tar -zxvf MNIST.tar.gz"
      ],
      "execution_count": 37,
      "outputs": [
        {
          "output_type": "stream",
          "text": [
            "--2021-03-11 15:14:20--  https://sites.wustl.edu/scao/files/2021/03/MNIST.tar_.gz\n",
            "Resolving sites.wustl.edu (sites.wustl.edu)... 34.216.237.15, 34.215.37.29\n",
            "Connecting to sites.wustl.edu (sites.wustl.edu)|34.216.237.15|:443... connected.\n",
            "HTTP request sent, awaiting response... 302 Found\n",
            "Location: https://cpb-us-w2.wpmucdn.com/sites.wustl.edu/dist/1/2774/files/2021/03/MNIST.tar_.gz [following]\n",
            "--2021-03-11 15:14:24--  https://cpb-us-w2.wpmucdn.com/sites.wustl.edu/dist/1/2774/files/2021/03/MNIST.tar_.gz\n",
            "Resolving cpb-us-w2.wpmucdn.com (cpb-us-w2.wpmucdn.com)... 151.139.244.23\n",
            "Connecting to cpb-us-w2.wpmucdn.com (cpb-us-w2.wpmucdn.com)|151.139.244.23|:443... connected.\n",
            "HTTP request sent, awaiting response... 200 OK\n",
            "Length: 23197619 (22M) [application/gzip]\n",
            "Saving to: ‘MNIST.tar_.gz’\n",
            "\n",
            "MNIST.tar_.gz       100%[===================>]  22.12M  --.-KB/s    in 0.1s    \n",
            "\n",
            "2021-03-11 15:14:24 (172 MB/s) - ‘MNIST.tar_.gz’ saved [23197619/23197619]\n",
            "\n",
            "./MNIST/\n",
            "./MNIST/processed/\n",
            "./MNIST/raw/\n",
            "./MNIST/raw/train-images-idx3-ubyte\n",
            "./MNIST/raw/train-labels-idx1-ubyte\n",
            "./MNIST/raw/train-images-idx3-ubyte.gz\n",
            "./MNIST/raw/t10k-images-idx3-ubyte.gz\n",
            "./MNIST/raw/train-labels-idx1-ubyte.gz\n",
            "./MNIST/raw/t10k-labels-idx1-ubyte\n",
            "./MNIST/raw/t10k-labels-idx1-ubyte.gz\n",
            "./MNIST/raw/t10k-images-idx3-ubyte\n"
          ],
          "name": "stdout"
        }
      ]
    },
    {
      "cell_type": "markdown",
      "metadata": {
        "id": "wYkmZChYx5AT"
      },
      "source": [
        "# Coding lecture 6 of Math 450\n",
        "\n",
        "## Last two weeks\n",
        "\n",
        "- Explore MNIST dataset.\n",
        "- Generator, iterator, `iter()`, `next()`, `enumerate()`, `try: except:` flow control.\n",
        "- Matrix-vector multiplications and \"broadcastability\".\n",
        "- `loss.backward()` vs hand computation.\n",
        "\n",
        "## Today\n",
        "- Why `with torch.no_grad():` is necessary.\n",
        "- Build simple neural network using `torch.nn.Sequential()`\n",
        "- Gradient descent for a binary classification problem.\n",
        "- (if time allows) Class and object-oriented programming primer. `constructor`, inheritance, `super`."
      ]
    },
    {
      "cell_type": "code",
      "metadata": {
        "id": "rIoX6q7B0OGe"
      },
      "source": [
        "from torchvision import datasets, transforms\n",
        "from torch.utils.data import DataLoader\n",
        "\n",
        "import matplotlib.pyplot as plt\n",
        "import seaborn as sns\n",
        "sns.set_style(\"dark\")\n",
        "\n",
        "import torch\n",
        "import numpy as np\n",
        "\n",
        "import warnings\n",
        "warnings.filterwarnings(\"ignore\")"
      ],
      "execution_count": 33,
      "outputs": []
    },
    {
      "cell_type": "code",
      "metadata": {
        "id": "pd9ZSxDYlV8n"
      },
      "source": [
        "np.newaxis"
      ],
      "execution_count": 34,
      "outputs": []
    },
    {
      "cell_type": "markdown",
      "metadata": {
        "id": "aGu_fh4r1lT2"
      },
      "source": [
        "# MNIST\n",
        "- Load the data. Both train and validation (test) data.\n",
        "- Extract only 0, 1 labeled data.\n",
        "- Write a loss function compute the cross entropy.\n",
        "- Apply the gradient descent."
      ]
    },
    {
      "cell_type": "code",
      "metadata": {
        "id": "CIboolJM1kiI"
      },
      "source": [
        "# load the mnist data\n",
        "train = datasets.MNIST(root='./', \n",
        "                       train=True, \n",
        "                       download=True, \n",
        "                       transform = transforms.ToTensor())\n",
        "valid = datasets.MNIST(root='./', \n",
        "                       train=False, \n",
        "                       download=True, \n",
        "                       transform = transforms.ToTensor())"
      ],
      "execution_count": 38,
      "outputs": []
    },
    {
      "cell_type": "code",
      "metadata": {
        "colab": {
          "base_uri": "https://localhost:8080/"
        },
        "id": "ak4pSjb0NePe",
        "outputId": "1b243e3b-769d-4bda-9ec7-982be87798c6"
      },
      "source": [
        "print(len(train), len(valid))"
      ],
      "execution_count": null,
      "outputs": [
        {
          "output_type": "stream",
          "text": [
            "60000 10000\n"
          ],
          "name": "stdout"
        }
      ]
    },
    {
      "cell_type": "code",
      "metadata": {
        "colab": {
          "base_uri": "https://localhost:8080/"
        },
        "id": "HHkTAVcQNlEy",
        "outputId": "9115678e-6879-4fe4-eba4-ba5c07586d02"
      },
      "source": [
        "arr1 = train.targets[:30].clone()\n",
        "print(arr1)"
      ],
      "execution_count": null,
      "outputs": [
        {
          "output_type": "stream",
          "text": [
            "tensor([5, 0, 4, 1, 9, 2, 1, 3, 1, 4, 3, 5, 3, 6, 1, 7, 2, 8, 6, 9, 4, 0, 9, 1,\n",
            "        1, 2, 4, 3, 2, 7])\n"
          ],
          "name": "stdout"
        }
      ]
    },
    {
      "cell_type": "code",
      "metadata": {
        "colab": {
          "base_uri": "https://localhost:8080/"
        },
        "id": "7d4GHnNVNyr8",
        "outputId": "01873a78-846b-46dc-beac-916c307617c4"
      },
      "source": [
        "arr1 == 0 # boolean mask"
      ],
      "execution_count": null,
      "outputs": [
        {
          "output_type": "stream",
          "text": [
            "\n",
            "\n"
          ],
          "name": "stdout"
        },
        {
          "output_type": "execute_result",
          "data": {
            "text/plain": [
              "tensor([False,  True, False, False, False, False, False, False, False, False,\n",
              "        False, False, False, False, False, False, False, False, False, False,\n",
              "        False,  True, False, False, False, False, False, False, False, False])"
            ]
          },
          "metadata": {
            "tags": []
          },
          "execution_count": 6
        }
      ]
    },
    {
      "cell_type": "code",
      "metadata": {
        "colab": {
          "base_uri": "https://localhost:8080/"
        },
        "id": "HWDnvvdUOCD7",
        "outputId": "d2e8c4c1-7eaf-48e7-fd34-298f3f8cf1f0"
      },
      "source": [
        "arr1[arr1 == 0]"
      ],
      "execution_count": null,
      "outputs": [
        {
          "output_type": "execute_result",
          "data": {
            "text/plain": [
              "tensor([0, 0])"
            ]
          },
          "metadata": {
            "tags": []
          },
          "execution_count": 7
        }
      ]
    },
    {
      "cell_type": "code",
      "metadata": {
        "colab": {
          "base_uri": "https://localhost:8080/"
        },
        "id": "xZWt6ADPOKYN",
        "outputId": "7530cd9a-0315-441b-cc3f-c2331a11ba18"
      },
      "source": [
        "(arr1 == 1) | (arr1 == 0)  \n",
        "# | is vectorized OR operation (order of operation highest)\n",
        "# & is vectorized AND"
      ],
      "execution_count": null,
      "outputs": [
        {
          "output_type": "execute_result",
          "data": {
            "text/plain": [
              "tensor([False,  True, False,  True, False, False,  True, False,  True, False,\n",
              "        False, False, False, False,  True, False, False, False, False, False,\n",
              "        False,  True, False,  True,  True, False, False, False, False, False])"
            ]
          },
          "metadata": {
            "tags": []
          },
          "execution_count": 8
        }
      ]
    },
    {
      "cell_type": "code",
      "metadata": {
        "id": "4mw_Phgh4_Di"
      },
      "source": [
        "idx_tr = (train.targets == 0) | (train.targets == 1) \n",
        "# getting 0 and 1 labeled data\n",
        "target_tr = train.targets[idx_tr]\n",
        "train_new = train.train_data[idx_tr].clone()/255.0"
      ],
      "execution_count": null,
      "outputs": []
    },
    {
      "cell_type": "code",
      "metadata": {
        "id": "o0C-mgFv6ZoE"
      },
      "source": [
        "idx_valid = (valid.targets == 0) | (valid.targets == 1) # getting 0 and 1 labeled data\n",
        "target_val = valid.targets[idx_valid]\n",
        "valid_new = valid.test_data[idx_valid].clone()/255.0"
      ],
      "execution_count": null,
      "outputs": []
    },
    {
      "cell_type": "code",
      "metadata": {
        "id": "CXuZDPZX6iCk",
        "colab": {
          "base_uri": "https://localhost:8080/"
        },
        "outputId": "e885355d-501d-49d2-d5e9-895f1a905bf9"
      },
      "source": [
        "print(len(train_new), len(valid_new))"
      ],
      "execution_count": null,
      "outputs": [
        {
          "output_type": "stream",
          "text": [
            "12665 2115\n"
          ],
          "name": "stdout"
        }
      ]
    },
    {
      "cell_type": "code",
      "metadata": {
        "id": "OK9TY8eB7aaS",
        "colab": {
          "base_uri": "https://localhost:8080/",
          "height": 631
        },
        "outputId": "5286d45a-bd18-4e5c-f5c6-121532a40ce2"
      },
      "source": [
        "fig, axes = plt.subplots(4,5, figsize=(12,10))\n",
        "axes = axes.flatten()\n",
        "indices = np.random.randint(0,len(train_new),size=20)\n",
        "# randomly choose 20 of them\n",
        "for i, idx in enumerate(indices):\n",
        "    X = train_new[idx].clone().detach()/255\n",
        "    y = target_tr[idx]\n",
        "    axes[i].imshow(X, cmap='gray')\n",
        "    axes[i].axis('off') # hide the axes ticks\n",
        "    axes[i].set_title(str(int(y)), color= 'black', fontsize=25)\n",
        "plt.show()"
      ],
      "execution_count": null,
      "outputs": [
        {
          "output_type": "stream",
          "text": [
            "\n",
            "\n"
          ],
          "name": "stdout"
        },
        {
          "output_type": "display_data",
          "data": {
            "image/png": "[encoded data removed]",
            "text/plain": [
              "<Figure size 864x720 with 20 Axes>"
            ]
          },
          "metadata": {
            "tags": []
          }
        }
      ]
    },
    {
      "cell_type": "code",
      "metadata": {
        "id": "mRNdWjBb9pHM"
      },
      "source": [
        "# cross-entropy loss\n",
        "\n",
        "def cross_entropy_loss(yhat, y):\n",
        "    '''\n",
        "    Compute the cross entropy of yhat against y\n",
        "      - yhat: the sigmoid of the output of an NN (output of the model)\n",
        "      - y: 0 or 1, true target\n",
        "    '''\n",
        "    assert y.size() == yhat.size()\n",
        "    loss = - y * torch.log(yhat) - (1-y) * torch.log(1-yhat)\n",
        "    return loss.mean()\n",
        "\n",
        "def sigmoid(yhat):\n",
        "    return 1/(1 + torch.exp(-yhat))"
      ],
      "execution_count": null,
      "outputs": []
    },
    {
      "cell_type": "markdown",
      "metadata": {
        "id": "LauMn-DfSJCN"
      },
      "source": [
        "These functions are implemented in Functional module in `torch`."
      ]
    },
    {
      "cell_type": "code",
      "metadata": {
        "id": "4Bzfi9Ij_77Q"
      },
      "source": [
        "# explain why the implementation above is naturally vectorized\n",
        "# randomly generate yhat\n",
        "\n",
        "# the dimension has to be consistent for yhat and y\n",
        "\n",
        "yhat = torch.randn((10,))\n",
        "yhat = sigmoid(yhat)  \n",
        "# sigmoid makes a random variable between (0, 1)\n",
        "y = target_tr[:10]"
      ],
      "execution_count": null,
      "outputs": []
    },
    {
      "cell_type": "code",
      "metadata": {
        "colab": {
          "base_uri": "https://localhost:8080/"
        },
        "id": "aucxf0L1QVYq",
        "outputId": "480df942-35ba-494e-f0e5-838b148313a9"
      },
      "source": [
        "target_tr[:20]"
      ],
      "execution_count": null,
      "outputs": [
        {
          "output_type": "execute_result",
          "data": {
            "text/plain": [
              "tensor([0, 1, 1, 1, 1, 0, 1, 1, 0, 0, 1, 0, 0, 1, 0, 1, 0, 0, 1, 1])"
            ]
          },
          "metadata": {
            "tags": []
          },
          "execution_count": 15
        }
      ]
    },
    {
      "cell_type": "code",
      "metadata": {
        "colab": {
          "base_uri": "https://localhost:8080/"
        },
        "id": "sSwsUDo1Qe3d",
        "outputId": "72824d08-9d46-4312-cb37-88bd4bed2b58"
      },
      "source": [
        "print(y.size(), yhat.size())"
      ],
      "execution_count": null,
      "outputs": [
        {
          "output_type": "stream",
          "text": [
            "torch.Size([10]) torch.Size([10])\n"
          ],
          "name": "stdout"
        }
      ]
    },
    {
      "cell_type": "code",
      "metadata": {
        "id": "2pzxqsTIABvU",
        "colab": {
          "base_uri": "https://localhost:8080/"
        },
        "outputId": "bed8b80b-7b7f-41ca-b439-baab1ff329c2"
      },
      "source": [
        "- y * torch.log(yhat) - (1-y) * torch.log(1-yhat) \n",
        "# 10 samples, a cross-entropy loss for each sample"
      ],
      "execution_count": null,
      "outputs": [
        {
          "output_type": "execute_result",
          "data": {
            "text/plain": [
              "tensor([1.6609, 1.7825, 0.2455, 0.4183, 2.3724, 0.4298, 0.9289, 0.8847, 2.2815,\n",
              "        1.4735])"
            ]
          },
          "metadata": {
            "tags": []
          },
          "execution_count": 17
        }
      ]
    },
    {
      "cell_type": "code",
      "metadata": {
        "colab": {
          "base_uri": "https://localhost:8080/"
        },
        "id": "dFbwBosPQuq8",
        "outputId": "9ef87946-4c76-49b9-ffd2-9cdd353eca4a"
      },
      "source": [
        "(- y * torch.log(yhat) - (1-y) * torch.log(1-yhat) ).mean()\n",
        "# mean = 1/N*sum_N (blahblahblah)"
      ],
      "execution_count": null,
      "outputs": [
        {
          "output_type": "execute_result",
          "data": {
            "text/plain": [
              "tensor(1.2478)"
            ]
          },
          "metadata": {
            "tags": []
          },
          "execution_count": 18
        }
      ]
    },
    {
      "cell_type": "code",
      "metadata": {
        "colab": {
          "base_uri": "https://localhost:8080/"
        },
        "id": "XqYQcW0kRORm",
        "outputId": "5e7e270c-0db2-455c-e536-712c5f93abe9"
      },
      "source": [
        "(y.size() == yhat.size())"
      ],
      "execution_count": null,
      "outputs": [
        {
          "output_type": "execute_result",
          "data": {
            "text/plain": [
              "True"
            ]
          },
          "metadata": {
            "tags": []
          },
          "execution_count": 19
        }
      ]
    },
    {
      "cell_type": "code",
      "metadata": {
        "id": "YdkHDHgFAi7w"
      },
      "source": [
        "## this would yield bad results\n",
        "yhat = torch.randn((5,1))\n",
        "yhat = sigmoid(yhat)\n",
        "y = target_tr[:5]"
      ],
      "execution_count": null,
      "outputs": []
    },
    {
      "cell_type": "code",
      "metadata": {
        "colab": {
          "base_uri": "https://localhost:8080/"
        },
        "id": "hyimaRaYRcCi",
        "outputId": "d9642b01-b2b3-43dc-822e-6c0a15445189"
      },
      "source": [
        "yhat"
      ],
      "execution_count": null,
      "outputs": [
        {
          "output_type": "execute_result",
          "data": {
            "text/plain": [
              "tensor([[0.4158],\n",
              "        [0.3148],\n",
              "        [0.5614],\n",
              "        [0.8313],\n",
              "        [0.4611]])"
            ]
          },
          "metadata": {
            "tags": []
          },
          "execution_count": 21
        }
      ]
    },
    {
      "cell_type": "code",
      "metadata": {
        "colab": {
          "base_uri": "https://localhost:8080/"
        },
        "id": "BUq7Jb5pRdlC",
        "outputId": "5e763965-1078-42a9-f11d-8292355535c2"
      },
      "source": [
        "y"
      ],
      "execution_count": null,
      "outputs": [
        {
          "output_type": "execute_result",
          "data": {
            "text/plain": [
              "tensor([0, 1, 1, 1, 1])"
            ]
          },
          "metadata": {
            "tags": []
          },
          "execution_count": 22
        }
      ]
    },
    {
      "cell_type": "code",
      "metadata": {
        "colab": {
          "base_uri": "https://localhost:8080/"
        },
        "id": "YTQ5AKPdRV9A",
        "outputId": "16849baf-5d08-4948-d8c1-2f1f2ed06652"
      },
      "source": [
        "(y.size() == yhat.size())"
      ],
      "execution_count": null,
      "outputs": [
        {
          "output_type": "execute_result",
          "data": {
            "text/plain": [
              "False"
            ]
          },
          "metadata": {
            "tags": []
          },
          "execution_count": 23
        }
      ]
    },
    {
      "cell_type": "code",
      "metadata": {
        "colab": {
          "base_uri": "https://localhost:8080/"
        },
        "id": "pzhvzfFNRi1s",
        "outputId": "b017cf8a-f798-4163-f1b3-853e20d770fa"
      },
      "source": [
        "- y * torch.log(yhat) - (1-y) * torch.log(1-yhat)"
      ],
      "execution_count": null,
      "outputs": [
        {
          "output_type": "execute_result",
          "data": {
            "text/plain": [
              "tensor([[0.5375, 0.8776, 0.8776, 0.8776, 0.8776],\n",
              "        [0.3781, 1.1557, 1.1557, 1.1557, 1.1557],\n",
              "        [0.8242, 0.5773, 0.5773, 0.5773, 0.5773],\n",
              "        [1.7796, 0.1848, 0.1848, 0.1848, 0.1848],\n",
              "        [0.6182, 0.7742, 0.7742, 0.7742, 0.7742]])"
            ]
          },
          "metadata": {
            "tags": []
          },
          "execution_count": 24
        }
      ]
    },
    {
      "cell_type": "code",
      "metadata": {
        "colab": {
          "base_uri": "https://localhost:8080/"
        },
        "id": "lh_-K28GR1nD",
        "outputId": "1e524713-7f2f-4e06-ec2b-2294f3e811ee"
      },
      "source": [
        "y * torch.log(yhat) # avoid doing this"
      ],
      "execution_count": null,
      "outputs": [
        {
          "output_type": "execute_result",
          "data": {
            "text/plain": [
              "tensor([[-0.0000, -0.8776, -0.8776, -0.8776, -0.8776],\n",
              "        [-0.0000, -1.1557, -1.1557, -1.1557, -1.1557],\n",
              "        [-0.0000, -0.5773, -0.5773, -0.5773, -0.5773],\n",
              "        [-0.0000, -0.1848, -0.1848, -0.1848, -0.1848],\n",
              "        [-0.0000, -0.7742, -0.7742, -0.7742, -0.7742]])"
            ]
          },
          "metadata": {
            "tags": []
          },
          "execution_count": 25
        }
      ]
    },
    {
      "cell_type": "markdown",
      "metadata": {
        "id": "5IcW0dH_BDSm"
      },
      "source": [
        "# `nn.Sequential()`\n",
        "\n",
        "- An NN container for LEGO'ing layers.\n",
        "- Good for beginners like us."
      ]
    },
    {
      "cell_type": "code",
      "metadata": {
        "id": "kBd1VuS4BC5I"
      },
      "source": [
        "import torch.nn as nn\n",
        "from torchsummary import summary"
      ],
      "execution_count": null,
      "outputs": []
    },
    {
      "cell_type": "code",
      "metadata": {
        "id": "VyuGKNbEBsc5"
      },
      "source": [
        "model = nn.Sequential(\n",
        "            nn.Linear(784, 128), # 784 = 28*28\n",
        "            nn.ReLU(), # activation\n",
        "            nn.Linear(128, 32), # 2nd hidden layer\n",
        "            nn.ReLU(),\n",
        "            nn.Linear(32, 1) # output layer\n",
        "        )"
      ],
      "execution_count": null,
      "outputs": []
    },
    {
      "cell_type": "code",
      "metadata": {
        "colab": {
          "base_uri": "https://localhost:8080/"
        },
        "id": "DvTj-ckwTHcx",
        "outputId": "ff3c00f5-221a-4621-ab51-540836654d93"
      },
      "source": [
        "model"
      ],
      "execution_count": null,
      "outputs": [
        {
          "output_type": "execute_result",
          "data": {
            "text/plain": [
              "Sequential(\n",
              "  (0): Linear(in_features=784, out_features=128, bias=True)\n",
              "  (1): ReLU()\n",
              "  (2): Linear(in_features=128, out_features=32, bias=True)\n",
              "  (3): ReLU()\n",
              "  (4): Linear(in_features=32, out_features=1, bias=True)\n",
              ")"
            ]
          },
          "metadata": {
            "tags": []
          },
          "execution_count": 28
        }
      ]
    },
    {
      "cell_type": "code",
      "metadata": {
        "colab": {
          "base_uri": "https://localhost:8080/"
        },
        "id": "xfgEZloiTLiR",
        "outputId": "c269f6a7-1f5b-4735-94bb-017760c97332"
      },
      "source": [
        "num_params = 0\n",
        "for param in model.parameters():\n",
        "    print(param.size())\n",
        "    # numel function counts the number of entries\n",
        "    num_params += torch.numel(param) \n",
        "# total number of parameters\n",
        "print(num_params)"
      ],
      "execution_count": null,
      "outputs": [
        {
          "output_type": "stream",
          "text": [
            "torch.Size([128, 784])\n",
            "torch.Size([128])\n",
            "torch.Size([32, 128])\n",
            "torch.Size([32])\n",
            "torch.Size([1, 32])\n",
            "torch.Size([1])\n",
            "104641\n"
          ],
          "name": "stdout"
        }
      ]
    },
    {
      "cell_type": "code",
      "metadata": {
        "id": "StbUDx9_CIbj",
        "colab": {
          "base_uri": "https://localhost:8080/"
        },
        "outputId": "b70c1abc-7c89-4f8b-c0d0-26c5a9c507ed"
      },
      "source": [
        "# demonstrate summary\n",
        "summary(model, input_size=(784, ), device='cpu') \n",
        "# -1 means batch_size"
      ],
      "execution_count": null,
      "outputs": [
        {
          "output_type": "stream",
          "text": [
            "----------------------------------------------------------------\n",
            "        Layer (type)               Output Shape         Param #\n",
            "================================================================\n",
            "            Linear-1                  [-1, 128]         100,480\n",
            "              ReLU-2                  [-1, 128]               0\n",
            "            Linear-3                   [-1, 32]           4,128\n",
            "              ReLU-4                   [-1, 32]               0\n",
            "            Linear-5                    [-1, 1]              33\n",
            "================================================================\n",
            "Total params: 104,641\n",
            "Trainable params: 104,641\n",
            "Non-trainable params: 0\n",
            "----------------------------------------------------------------\n",
            "Input size (MB): 0.00\n",
            "Forward/backward pass size (MB): 0.00\n",
            "Params size (MB): 0.40\n",
            "Estimated Total Size (MB): 0.40\n",
            "----------------------------------------------------------------\n"
          ],
          "name": "stdout"
        }
      ]
    },
    {
      "cell_type": "code",
      "metadata": {
        "id": "0BEg2KszCJZX"
      },
      "source": [
        "# class implementation which we will cover in next class\n",
        "class MLP(nn.Module):\n",
        "    def __init__(self):\n",
        "        # super is a keyword for \n",
        "        # constructor inheritance\n",
        "        super(MLP, self).__init__()\n",
        "        self.layers = nn.Sequential(\n",
        "            nn.Linear(784, 128),\n",
        "            nn.ReLU(),\n",
        "            nn.Linear(128, 32),\n",
        "            nn.ReLU(),\n",
        "            nn.Linear(32, 1)\n",
        "        )\n",
        "        \n",
        "    def forward(self, x):\n",
        "        # train data (-1, 28, 28) --> (-1, 28*28)\n",
        "        # in the implementation above\n",
        "        x = x.view(x.size(0), -1)\n",
        "        x = self.layers(x)\n",
        "        return x"
      ],
      "execution_count": null,
      "outputs": []
    },
    {
      "cell_type": "markdown",
      "metadata": {
        "id": "FiAtUJREC_OO"
      },
      "source": [
        "# Gradient descent\n",
        "For $k=0,1,\\dots$, update $W_{k+1} = W_k - \\alpha \\nabla_W L|_{W=W_k}$, where $W$ stands for the parameters of the NN."
      ]
    },
    {
      "cell_type": "code",
      "metadata": {
        "id": "H75yquLQDHyJ"
      },
      "source": [
        "# hyper-parameters, data preparation,  initialize the model\n",
        "\n",
        "numEpochs = 20 \n",
        "# number of epochs, 1 epoch means the model sweeps train data set once\n",
        "learning_rate = 1e-2 # alpha \n",
        "\n",
        "model = nn.Sequential(\n",
        "            nn.Linear(784, 128),\n",
        "            nn.ReLU(),\n",
        "            nn.Linear(128, 1),\n",
        "        )\n",
        "\n",
        "X = train_new.view(train_new.size(0), -1) # automatic flatten the data\n",
        "# X needs to have size (-1, 784), -1 means data size\n",
        "y = target_tr.view(-1,1)\n",
        "print(X.size(), y.size())"
      ],
      "execution_count": null,
      "outputs": []
    },
    {
      "cell_type": "code",
      "metadata": {
        "colab": {
          "base_uri": "https://localhost:8080/"
        },
        "id": "7V2mi77xVILt",
        "outputId": "c74c8015-f990-4671-c206-73e44c46456d"
      },
      "source": [
        "train_new.size()"
      ],
      "execution_count": null,
      "outputs": [
        {
          "output_type": "execute_result",
          "data": {
            "text/plain": [
              "torch.Size([12665, 28, 28])"
            ]
          },
          "metadata": {
            "tags": []
          },
          "execution_count": 137
        }
      ]
    },
    {
      "cell_type": "code",
      "metadata": {
        "id": "-0lpXmukV19D"
      },
      "source": [
        "arr = sigmoid(torch.randn(10, ))"
      ],
      "execution_count": null,
      "outputs": []
    },
    {
      "cell_type": "code",
      "metadata": {
        "colab": {
          "base_uri": "https://localhost:8080/"
        },
        "id": "-arG-8zyV7om",
        "outputId": "7da89b3c-62e8-4c42-fba2-5e5ca24c32b9"
      },
      "source": [
        "arr"
      ],
      "execution_count": null,
      "outputs": [
        {
          "output_type": "execute_result",
          "data": {
            "text/plain": [
              "tensor([0.5162, 0.5881, 0.4051, 0.6097, 0.1037, 0.5539, 0.4383, 0.5526, 0.7177,\n",
              "        0.4607])"
            ]
          },
          "metadata": {
            "tags": []
          },
          "execution_count": 140
        }
      ]
    },
    {
      "cell_type": "code",
      "metadata": {
        "colab": {
          "base_uri": "https://localhost:8080/"
        },
        "id": "E-nk3y8BV_xq",
        "outputId": "b35ab42a-067f-4f13-904b-b6689dc1a7cb"
      },
      "source": [
        "(arr > 0.5).float()"
      ],
      "execution_count": null,
      "outputs": [
        {
          "output_type": "execute_result",
          "data": {
            "text/plain": [
              "tensor([1., 1., 0., 1., 0., 1., 0., 1., 1., 0.])"
            ]
          },
          "metadata": {
            "tags": []
          },
          "execution_count": 141
        }
      ]
    },
    {
      "cell_type": "code",
      "metadata": {
        "colab": {
          "base_uri": "https://localhost:8080/"
        },
        "id": "ktNvtmC9Wck9",
        "outputId": "f94c5ff1-f232-4814-9d9c-a81d57560760"
      },
      "source": [
        "y_hat.size()"
      ],
      "execution_count": null,
      "outputs": [
        {
          "output_type": "execute_result",
          "data": {
            "text/plain": [
              "torch.Size([12665, 1])"
            ]
          },
          "metadata": {
            "tags": []
          },
          "execution_count": 143
        }
      ]
    },
    {
      "cell_type": "code",
      "metadata": {
        "id": "0xH2P8-GDBVH",
        "colab": {
          "base_uri": "https://localhost:8080/"
        },
        "outputId": "e32db88d-81ba-496a-f96a-447d8af12765"
      },
      "source": [
        "### cpu code\n",
        "\n",
        "for i, epoch in enumerate(range(numEpochs)):\n",
        "\n",
        "    y_hat = model(X) # yhat is real number\n",
        "    y_hat = sigmoid(y_hat) # yhat becomes a proba\n",
        "\n",
        "    loss = cross_entropy_loss(y_hat, y)\n",
        "    \n",
        "    print(f\"cross entropy loss after {i}\", \n",
        "          f\"iterations is {loss.item()}\",)\n",
        "    \n",
        "    # accuracy\n",
        "    preds = (y_hat > 0.5).detach().float()\n",
        "    acc = (preds == y).float().mean()\n",
        "    print(f\"accuracy: {100*acc:.2f} \\n\")\n",
        "\n",
        "    # Zero the gradients before running the backward pass.\n",
        "    model.zero_grad()\n",
        "\n",
        "    # autograd to do backprop\n",
        "    loss.backward()\n",
        "\n",
        "    # GD\n",
        "    with torch.no_grad():\n",
        "        for param in model.parameters():\n",
        "            param -= learning_rate * param.grad\n",
        "            # after .backward()\n",
        "            # param.grad returns the gradient of each param"
      ],
      "execution_count": null,
      "outputs": [
        {
          "output_type": "stream",
          "text": [
            "cross entropy loss after 0 iterations is 0.687397837638855\n",
            "accuracy: 56.15 \n",
            "\n",
            "cross entropy loss after 1 iterations is 0.6820796132087708\n",
            "accuracy: 58.59 \n",
            "\n",
            "cross entropy loss after 2 iterations is 0.6768348217010498\n",
            "accuracy: 62.04 \n",
            "\n",
            "cross entropy loss after 3 iterations is 0.6716567873954773\n",
            "accuracy: 66.97 \n",
            "\n",
            "cross entropy loss after 4 iterations is 0.6665410399436951\n",
            "accuracy: 71.69 \n",
            "\n",
            "cross entropy loss after 5 iterations is 0.6614825129508972\n",
            "accuracy: 76.58 \n",
            "\n",
            "cross entropy loss after 6 iterations is 0.6564759016036987\n",
            "accuracy: 81.15 \n",
            "\n",
            "cross entropy loss after 7 iterations is 0.6515145897865295\n",
            "accuracy: 84.97 \n",
            "\n",
            "cross entropy loss after 8 iterations is 0.6465967297554016\n",
            "accuracy: 88.17 \n",
            "\n",
            "cross entropy loss after 9 iterations is 0.6417169570922852\n",
            "accuracy: 90.80 \n",
            "\n",
            "cross entropy loss after 10 iterations is 0.6368739604949951\n",
            "accuracy: 92.89 \n",
            "\n",
            "cross entropy loss after 11 iterations is 0.6320624947547913\n",
            "accuracy: 94.20 \n",
            "\n",
            "cross entropy loss after 12 iterations is 0.6272779107093811\n",
            "accuracy: 95.22 \n",
            "\n",
            "cross entropy loss after 13 iterations is 0.6225171685218811\n",
            "accuracy: 96.19 \n",
            "\n",
            "cross entropy loss after 14 iterations is 0.6177761554718018\n",
            "accuracy: 96.87 \n",
            "\n",
            "cross entropy loss after 15 iterations is 0.6130495071411133\n",
            "accuracy: 97.54 \n",
            "\n",
            "cross entropy loss after 16 iterations is 0.6083356142044067\n",
            "accuracy: 97.93 \n",
            "\n",
            "cross entropy loss after 17 iterations is 0.6036325097084045\n",
            "accuracy: 98.29 \n",
            "\n",
            "cross entropy loss after 18 iterations is 0.5989376306533813\n",
            "accuracy: 98.52 \n",
            "\n",
            "cross entropy loss after 19 iterations is 0.5942485928535461\n",
            "accuracy: 98.80 \n",
            "\n"
          ],
          "name": "stdout"
        }
      ]
    },
    {
      "cell_type": "code",
      "metadata": {
        "id": "jYcJaaSWHYHN",
        "colab": {
          "base_uri": "https://localhost:8080/"
        },
        "outputId": "30240099-8d21-4c2f-88be-886323353619"
      },
      "source": [
        "# preparation for GPU code\n",
        "device = torch.device('cuda' if torch.cuda.is_available() else 'cpu')\n",
        "model = nn.Sequential(\n",
        "            nn.Linear(784, 128),\n",
        "            nn.ReLU(),\n",
        "            nn.Linear(128, 1),\n",
        "        )\n",
        "\n",
        "model.to(device)"
      ],
      "execution_count": null,
      "outputs": [
        {
          "output_type": "execute_result",
          "data": {
            "text/plain": [
              "Sequential(\n",
              "  (0): Linear(in_features=784, out_features=128, bias=True)\n",
              "  (1): ReLU()\n",
              "  (2): Linear(in_features=128, out_features=1, bias=True)\n",
              ")"
            ]
          },
          "metadata": {
            "tags": []
          },
          "execution_count": 37
        }
      ]
    },
    {
      "cell_type": "markdown",
      "metadata": {
        "id": "G08t01d1YLKG"
      },
      "source": [
        "## GPU training: \n",
        "\n",
        "- faster but less accurate (fp32 vs fp64 on CPU)\n"
      ]
    },
    {
      "cell_type": "code",
      "metadata": {
        "id": "x7LVjlfQXpZG"
      },
      "source": [
        "X = train_new.view(train_new.size(0), -1).float().to(device)\n",
        "y = target_tr.view(-1,1).float().to(device)\n",
        "learning_rate = 1e-2\n",
        "numEpochs = 20"
      ],
      "execution_count": null,
      "outputs": []
    },
    {
      "cell_type": "code",
      "metadata": {
        "id": "1c8UYp8bHxkX",
        "colab": {
          "base_uri": "https://localhost:8080/"
        },
        "outputId": "408b9b4b-911f-4a4a-829a-00017a16240a"
      },
      "source": [
        "for i, epoch in enumerate(range(numEpochs)):\n",
        "    \n",
        "\n",
        "    y_hat = model(X) # yhat is real number\n",
        "    y_hat = sigmoid(y_hat) # yhat becomes a proba\n",
        "\n",
        "    loss = cross_entropy_loss(y_hat, y)\n",
        "    \n",
        "    print(f\"cross entropy loss after {i}\", \n",
        "          f\"iterations is {loss.item()}\",)\n",
        "    \n",
        "    # accuracy\n",
        "    preds = (y_hat > 0.5).detach().cpu().float()\n",
        "    _y = y.cpu()\n",
        "    acc = (preds == _y).float().cpu().mean()\n",
        "    print(f\"accuracy: {100*acc:.2f} \\n\")\n",
        "\n",
        "    # Zero the gradients before running the backward pass.\n",
        "    model.zero_grad()\n",
        "\n",
        "    # autograd to do backprop\n",
        "    loss.backward()\n",
        "\n",
        "    # GD\n",
        "    with torch.no_grad():\n",
        "        for param in model.parameters():\n",
        "            param -= learning_rate * param.grad\n",
        "            # after .backward()\n",
        "            # param.grad returns the gradient of each param"
      ],
      "execution_count": null,
      "outputs": [
        {
          "output_type": "stream",
          "text": [
            "cross entropy loss after 0 iterations is 0.6959707140922546\n",
            "accuracy: 40.38 \n",
            "\n",
            "cross entropy loss after 1 iterations is 0.6914499402046204\n",
            "accuracy: 42.81 \n",
            "\n",
            "cross entropy loss after 2 iterations is 0.6869994401931763\n",
            "accuracy: 44.58 \n",
            "\n",
            "cross entropy loss after 3 iterations is 0.6826134324073792\n",
            "accuracy: 45.80 \n",
            "\n",
            "cross entropy loss after 4 iterations is 0.6782851219177246\n",
            "accuracy: 47.10 \n",
            "\n",
            "cross entropy loss after 5 iterations is 0.6740078330039978\n",
            "accuracy: 48.50 \n",
            "\n",
            "cross entropy loss after 6 iterations is 0.6697750687599182\n",
            "accuracy: 50.19 \n",
            "\n",
            "cross entropy loss after 7 iterations is 0.6655825972557068\n",
            "accuracy: 53.05 \n",
            "\n",
            "cross entropy loss after 8 iterations is 0.6614255905151367\n",
            "accuracy: 56.77 \n",
            "\n",
            "cross entropy loss after 9 iterations is 0.6572970151901245\n",
            "accuracy: 60.88 \n",
            "\n",
            "cross entropy loss after 10 iterations is 0.653195321559906\n",
            "accuracy: 65.50 \n",
            "\n",
            "cross entropy loss after 11 iterations is 0.6491172909736633\n",
            "accuracy: 70.39 \n",
            "\n",
            "cross entropy loss after 12 iterations is 0.6450575590133667\n",
            "accuracy: 75.04 \n",
            "\n",
            "cross entropy loss after 13 iterations is 0.6410108208656311\n",
            "accuracy: 79.15 \n",
            "\n",
            "cross entropy loss after 14 iterations is 0.6369733810424805\n",
            "accuracy: 82.72 \n",
            "\n",
            "cross entropy loss after 15 iterations is 0.6329430341720581\n",
            "accuracy: 85.92 \n",
            "\n",
            "cross entropy loss after 16 iterations is 0.6289169192314148\n",
            "accuracy: 88.20 \n",
            "\n",
            "cross entropy loss after 17 iterations is 0.6248908638954163\n",
            "accuracy: 90.27 \n",
            "\n",
            "cross entropy loss after 18 iterations is 0.6208625435829163\n",
            "accuracy: 91.67 \n",
            "\n",
            "cross entropy loss after 19 iterations is 0.6168304681777954\n",
            "accuracy: 92.83 \n",
            "\n"
          ],
          "name": "stdout"
        }
      ]
    },
    {
      "cell_type": "code",
      "metadata": {
        "id": "9fveujBSXjnJ"
      },
      "source": [
        ""
      ],
      "execution_count": null,
      "outputs": []
    }
  ]
}