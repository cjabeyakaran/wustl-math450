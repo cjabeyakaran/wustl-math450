{
  "nbformat": 4,
  "nbformat_minor": 0,
  "metadata": {
    "colab": {
      "name": "Math 450 Notebook 5 (GD).ipynb",
      "provenance": [],
      "collapsed_sections": [],
      "authorship_tag": "ABX9TyPGGV9Mv1gtCAyaKh6TkPeK",
      "include_colab_link": true
    },
    "kernelspec": {
      "name": "python3",
      "display_name": "Python 3"
    },
    "accelerator": "GPU"
  },
  "cells": [
    {
      "cell_type": "markdown",
      "metadata": {
        "id": "view-in-github",
        "colab_type": "text"
      },
      "source": [
        "<a href=\"https://colab.research.google.com/github/scaomath/wustl-math450/blob/main/Lectures/Math_450_Notebook_5_(GD).ipynb\" target=\"_parent\"><img src=\"https://colab.research.google.com/assets/colab-badge.svg\" alt=\"Open In Colab\"/></a>"
      ]
    },
    {
      "cell_type": "markdown",
      "metadata": {
        "id": "zxyfNfsXxw_d"
      },
      "source": [
        "# Coding lecture 5 of Math 450\n",
        "\n",
        "Overall goal of the our class: make us learn machine learning in torch package.\n",
        "- Build our own neural net using Torch's LEGO-like blocks.\n",
        "- Write torch-like code from scratch.\n",
        "- Write our own optimizer.\n",
        "\n",
        "## Last week\n",
        "\n",
        "- Explore MNIST dataset.\n",
        "- Generator, iterator, `iter()` and `next()`\n",
        "- `enumerate()`.\n",
        "- `with`.\n",
        "\n",
        "## Instructor's suggestions and tips\n",
        "- How to debug a `for` loop in a cell environment or a vectorized operation.\n",
        "- Good habit: keep a code repo of ourselves, a working copy of the HW, then a submit version. \n",
        "- Keep a list of typical solutions handy (to save some time Googling or trial and error of StackOverflow's answers). e.g., how to read a pickled file, how to get indices of entries from a list, etc.\n",
        "\n",
        "## Today's goals\n",
        "- f-string.\n",
        "- `try: except:` flow control.\n",
        "- More on matrix-vector multiplications (most important skill: dimension tracking). The terminology \"broadcastable\".\n",
        "- Backprop `loss.backward()` vs hand computation.\n",
        "- Gradient descent (manual implementation)."
      ]
    },
    {
      "cell_type": "code",
      "metadata": {
        "id": "EiYrajEv2DFk"
      },
      "source": [
        "from torchvision import datasets, transforms\n",
        "from torch.utils.data import DataLoader\n",
        "\n",
        "import matplotlib.pyplot as plt\n",
        "import seaborn as sns\n",
        "sns.set_style(\"dark\")\n",
        "\n",
        "import torch\n",
        "import torch.nn as nn\n",
        "import numpy as np\n",
        "\n",
        "import warnings\n",
        "warnings.filterwarnings(\"ignore\")"
      ],
      "execution_count": null,
      "outputs": []
    },
    {
      "cell_type": "code",
      "metadata": {
        "colab": {
          "base_uri": "https://localhost:8080/"
        },
        "id": "FtuEmKXsfsXq",
        "outputId": "33541a51-8da1-4b41-9283-e88ab439e6b9"
      },
      "source": [
        "import torch\n",
        "torch.cuda.is_available()"
      ],
      "execution_count": null,
      "outputs": [
        {
          "output_type": "execute_result",
          "data": {
            "text/plain": [
              "True"
            ]
          },
          "metadata": {
            "tags": []
          },
          "execution_count": 1
        }
      ]
    },
    {
      "cell_type": "markdown",
      "metadata": {
        "id": "MhNInNab0zJ0"
      },
      "source": [
        "## f-string\n",
        "New in Python 3, very handy tool."
      ]
    },
    {
      "cell_type": "code",
      "metadata": {
        "colab": {
          "base_uri": "https://localhost:8080/",
          "height": 35
        },
        "id": "cRezpODGLW6B",
        "outputId": "3456d9c5-24a3-4a13-ba54-3e4f3c306b45"
      },
      "source": [
        "\"this is a string\""
      ],
      "execution_count": null,
      "outputs": [
        {
          "output_type": "execute_result",
          "data": {
            "application/vnd.google.colaboratory.intrinsic+json": {
              "type": "string"
            },
            "text/plain": [
              "'this is a string'"
            ]
          },
          "metadata": {
            "tags": []
          },
          "execution_count": 29
        }
      ]
    },
    {
      "cell_type": "code",
      "metadata": {
        "colab": {
          "base_uri": "https://localhost:8080/",
          "height": 35
        },
        "id": "yjc9vttZLZn3",
        "outputId": "f0790b32-7a9c-499e-da69-0a588343ece4"
      },
      "source": [
        "# python 2\n",
        "\"this is an f-string: {:.2f}\".format(23.33213123)"
      ],
      "execution_count": null,
      "outputs": [
        {
          "output_type": "execute_result",
          "data": {
            "application/vnd.google.colaboratory.intrinsic+json": {
              "type": "string"
            },
            "text/plain": [
              "'this is an f-string: 23.33'"
            ]
          },
          "metadata": {
            "tags": []
          },
          "execution_count": 30
        }
      ]
    },
    {
      "cell_type": "code",
      "metadata": {
        "colab": {
          "base_uri": "https://localhost:8080/",
          "height": 35
        },
        "id": "9wT4TglILp_f",
        "outputId": "1bc7939c-6909-4379-ec6c-2bc9b74bdd94"
      },
      "source": [
        "# python 3\n",
        "x = 23.33213123\n",
        "f\"this is an f-string: {x:.4f}\""
      ],
      "execution_count": null,
      "outputs": [
        {
          "output_type": "execute_result",
          "data": {
            "application/vnd.google.colaboratory.intrinsic+json": {
              "type": "string"
            },
            "text/plain": [
              "'this is an f-string: 23.3321'"
            ]
          },
          "metadata": {
            "tags": []
          },
          "execution_count": 31
        }
      ]
    },
    {
      "cell_type": "code",
      "metadata": {
        "id": "hJ8bAqTGvwYX",
        "colab": {
          "base_uri": "https://localhost:8080/"
        },
        "outputId": "2953d77b-001a-48f7-98d3-bb0265c68cef"
      },
      "source": [
        "# example of a timer\n",
        "from time import time\n",
        "\n",
        "start = time()\n",
        "for i in range(10000):\n",
        "   x += 1\n",
        "print(f\"Time elasped: {time() - start} seconds\")"
      ],
      "execution_count": null,
      "outputs": [
        {
          "output_type": "stream",
          "text": [
            "Time elasped: 0.0014984607696533203 seconds\n"
          ],
          "name": "stdout"
        }
      ]
    },
    {
      "cell_type": "code",
      "metadata": {
        "id": "9oqKwrrX1Aqw",
        "colab": {
          "base_uri": "https://localhost:8080/"
        },
        "outputId": "2bb9b369-fc6c-462d-f3df-0d8fae8de6e4"
      },
      "source": [
        "# print the counter of iterations\n",
        "for i, item in enumerate(['apple', 'pear', 'orange']):\n",
        "    print(f\"Index: {i}, item: {item}\")"
      ],
      "execution_count": null,
      "outputs": [
        {
          "output_type": "stream",
          "text": [
            "Index: 0, item: apple\n",
            "Index: 1, item: pear\n",
            "Index: 2, item: orange\n"
          ],
          "name": "stdout"
        }
      ]
    },
    {
      "cell_type": "markdown",
      "metadata": {
        "id": "VBvxNjFsBwi-"
      },
      "source": [
        "## Try, except\n",
        "\n",
        "Often seen in many data loading routines."
      ]
    },
    {
      "cell_type": "code",
      "metadata": {
        "id": "Orv5D4xJB33_",
        "colab": {
          "base_uri": "https://localhost:8080/",
          "height": 220
        },
        "outputId": "fde7ecf5-cb04-4c61-d4bf-869b0024993a"
      },
      "source": [
        "# this line of code will give us error\n",
        "print(x1)\n",
        "print(x) # the execution stops and this line won't get\n",
        "# executed"
      ],
      "execution_count": null,
      "outputs": [
        {
          "output_type": "error",
          "ename": "NameError",
          "evalue": "ignored",
          "traceback": [
            "\u001b[0;31m---------------------------------------------------------------------------\u001b[0m",
            "\u001b[0;31mNameError\u001b[0m                                 Traceback (most recent call last)",
            "\u001b[0;32m<ipython-input-37-a0876e7f2a6f>\u001b[0m in \u001b[0;36m<module>\u001b[0;34m()\u001b[0m\n\u001b[1;32m      1\u001b[0m \u001b[0;31m# this line of code will give us error\u001b[0m\u001b[0;34m\u001b[0m\u001b[0;34m\u001b[0m\u001b[0;34m\u001b[0m\u001b[0m\n\u001b[0;32m----> 2\u001b[0;31m \u001b[0mprint\u001b[0m\u001b[0;34m(\u001b[0m\u001b[0mx1\u001b[0m\u001b[0;34m)\u001b[0m\u001b[0;34m\u001b[0m\u001b[0;34m\u001b[0m\u001b[0m\n\u001b[0m\u001b[1;32m      3\u001b[0m \u001b[0mprint\u001b[0m\u001b[0;34m(\u001b[0m\u001b[0mx\u001b[0m\u001b[0;34m)\u001b[0m\u001b[0;34m\u001b[0m\u001b[0;34m\u001b[0m\u001b[0m\n\u001b[1;32m      4\u001b[0m \u001b[0;31m# the execution stops\u001b[0m\u001b[0;34m\u001b[0m\u001b[0;34m\u001b[0m\u001b[0;34m\u001b[0m\u001b[0m\n",
            "\u001b[0;31mNameError\u001b[0m: name 'x1' is not defined"
          ]
        }
      ]
    },
    {
      "cell_type": "code",
      "metadata": {
        "colab": {
          "base_uri": "https://localhost:8080/"
        },
        "id": "uRmR9UY_NrLt",
        "outputId": "98d25daa-e301-4822-c5a9-3ba21dcd3aaa"
      },
      "source": [
        "try:\n",
        "  print(x1)\n",
        "except:\n",
        "  print(x)"
      ],
      "execution_count": null,
      "outputs": [
        {
          "output_type": "stream",
          "text": [
            "10023.33213123\n"
          ],
          "name": "stdout"
        }
      ]
    },
    {
      "cell_type": "code",
      "metadata": {
        "colab": {
          "base_uri": "https://localhost:8080/"
        },
        "id": "c2-9ttHvOBfX",
        "outputId": "188ebb86-f5d5-4199-fb1a-c7c2c57dff83"
      },
      "source": [
        "try:\n",
        "  print(x)\n",
        "except:\n",
        "  raise NameError(\"variable does not exist\")"
      ],
      "execution_count": null,
      "outputs": [
        {
          "output_type": "stream",
          "text": [
            "10023.33213123\n"
          ],
          "name": "stdout"
        }
      ]
    },
    {
      "cell_type": "markdown",
      "metadata": {
        "id": "J45DaxNr1GUt"
      },
      "source": [
        "## Debugging `for` loops\n",
        "\n",
        "- How do we figure out what a `for` loop is doing?\n",
        "- From `for` loop to vectorization."
      ]
    },
    {
      "cell_type": "code",
      "metadata": {
        "id": "QTc-q3ur1o4-"
      },
      "source": [
        "# load the mnist data\n",
        "train = datasets.MNIST('../data', \n",
        "                       train=True, \n",
        "                       download=True, \n",
        "                       transform = transforms.ToTensor())"
      ],
      "execution_count": null,
      "outputs": []
    },
    {
      "cell_type": "code",
      "metadata": {
        "id": "qB5D_Mkx3QCq"
      },
      "source": [
        "idx = (train.targets==8)\n",
        "labels_new = train.targets[idx]\n",
        "data = train.train_data[idx].clone()/255.0"
      ],
      "execution_count": null,
      "outputs": []
    },
    {
      "cell_type": "code",
      "metadata": {
        "colab": {
          "base_uri": "https://localhost:8080/"
        },
        "id": "KZm5dgeh3sdp",
        "outputId": "fd00b208-a8d3-4ddb-e97a-4f7f21e0b69e"
      },
      "source": [
        "n_data_all = len(data)\n",
        "idx = np.random.choice(range(n_data_all), size=10)\n",
        "data_new = data[idx].clone().detach()\n",
        "print(data_new.shape)"
      ],
      "execution_count": null,
      "outputs": [
        {
          "output_type": "stream",
          "text": [
            "torch.Size([10, 28, 28])\n"
          ],
          "name": "stdout"
        }
      ]
    },
    {
      "cell_type": "code",
      "metadata": {
        "colab": {
          "base_uri": "https://localhost:8080/",
          "height": 265
        },
        "id": "9EvgpmA84OZV",
        "outputId": "f13b3efc-050f-4e6e-c13d-53e5d192fd0b"
      },
      "source": [
        "i = 9\n",
        "plt.imshow(data_new[i,:,:], cmap='gray'); \n",
        "# plot the i-th sample"
      ],
      "execution_count": null,
      "outputs": [
        {
          "output_type": "display_data",
          "data": {
            "image/png": "[encoded data removed]",
            "text/plain": [
              "<Figure size 432x288 with 1 Axes>"
            ]
          },
          "metadata": {
            "tags": []
          }
        }
      ]
    },
    {
      "cell_type": "code",
      "metadata": {
        "id": "nI4ANbqW4Qz9"
      },
      "source": [
        "# problem 2 in HW, how to dissect this code\n",
        "W0 = torch.randn(28*28, 14*14)\n",
        "n_samples = len(data_new)\n",
        "X0 = data_new\n",
        "X1 = torch.zeros(n_samples, 14*14, 1)\n",
        "for i in range(n_samples):\n",
        "    sample = X0[i,:,:].view(-1,1)\n",
        "    X1[i,:] = W0.T.mm(sample) \n",
        "    # X1 gets an assignment at each iteration \n",
        "X2 = X1.view(-1,14,14) # output\n",
        "# the -1 in the first dim is just keeping\n",
        "# the number of samples unchanged."
      ],
      "execution_count": null,
      "outputs": []
    },
    {
      "cell_type": "code",
      "metadata": {
        "colab": {
          "base_uri": "https://localhost:8080/"
        },
        "id": "mOUdbmC8PBvc",
        "outputId": "ab09fa9c-2038-41e0-eda8-8bd851f131ea"
      },
      "source": [
        "for i in range(n_samples):\n",
        "    print(i)\n",
        "    sample = X0[i,:,:].view(-1,1)\n",
        "    X1_tmp = W0.T.mm(sample)\n",
        "    break"
      ],
      "execution_count": null,
      "outputs": [
        {
          "output_type": "stream",
          "text": [
            "0\n"
          ],
          "name": "stdout"
        }
      ]
    },
    {
      "cell_type": "code",
      "metadata": {
        "colab": {
          "base_uri": "https://localhost:8080/"
        },
        "id": "GOqykIrIPiuU",
        "outputId": "656f25be-3d79-44bc-f632-2f8446e33179"
      },
      "source": [
        "print(sample.size(), W0.size(), W0.T.size())\n",
        "# W0.T means transpose to a vector\n",
        "print(X1_tmp.size())"
      ],
      "execution_count": null,
      "outputs": [
        {
          "output_type": "stream",
          "text": [
            "torch.Size([784, 1]) torch.Size([784, 196]) torch.Size([196, 784])\n",
            "torch.Size([196, 1])\n"
          ],
          "name": "stdout"
        }
      ]
    },
    {
      "cell_type": "code",
      "metadata": {
        "colab": {
          "base_uri": "https://localhost:8080/"
        },
        "id": "KAg1ywyXQKYP",
        "outputId": "3cda4e24-ccd3-441c-d5c5-80da1a54e9ae"
      },
      "source": [
        "print(X0.size(),X1.size(), X2.size()) \n",
        "# 10: number of samples\n",
        "# (14, 14): downsampled image size"
      ],
      "execution_count": null,
      "outputs": [
        {
          "output_type": "stream",
          "text": [
            "torch.Size([10, 28, 28]) torch.Size([10, 196, 1]) torch.Size([10, 14, 14])\n"
          ],
          "name": "stdout"
        }
      ]
    },
    {
      "cell_type": "code",
      "metadata": {
        "colab": {
          "base_uri": "https://localhost:8080/"
        },
        "id": "S_axKXqbQd4a",
        "outputId": "4d11236b-a6fa-4bfa-f715-14c99560ef75"
      },
      "source": [
        "torch.arange(9)"
      ],
      "execution_count": null,
      "outputs": [
        {
          "output_type": "execute_result",
          "data": {
            "text/plain": [
              "tensor([0, 1, 2, 3, 4, 5, 6, 7, 8])"
            ]
          },
          "metadata": {
            "tags": []
          },
          "execution_count": 55
        }
      ]
    },
    {
      "cell_type": "code",
      "metadata": {
        "colab": {
          "base_uri": "https://localhost:8080/"
        },
        "id": "HNukSjxeQuPZ",
        "outputId": "b585b3d5-dc87-4e97-a763-77623f6878db"
      },
      "source": [
        "torch.arange(9).view(3,3)"
      ],
      "execution_count": null,
      "outputs": [
        {
          "output_type": "execute_result",
          "data": {
            "text/plain": [
              "tensor([[0, 1, 2],\n",
              "        [3, 4, 5],\n",
              "        [6, 7, 8]])"
            ]
          },
          "metadata": {
            "tags": []
          },
          "execution_count": 58
        }
      ]
    },
    {
      "cell_type": "code",
      "metadata": {
        "colab": {
          "base_uri": "https://localhost:8080/"
        },
        "id": "zzwU-KhBRWuU",
        "outputId": "f4d96182-bfd5-4879-d363-9453858d435d"
      },
      "source": [
        "torch.arange(9).view(3,3).view(-1)"
      ],
      "execution_count": null,
      "outputs": [
        {
          "output_type": "execute_result",
          "data": {
            "text/plain": [
              "tensor([0, 1, 2, 3, 4, 5, 6, 7, 8])"
            ]
          },
          "metadata": {
            "tags": []
          },
          "execution_count": 59
        }
      ]
    },
    {
      "cell_type": "code",
      "metadata": {
        "colab": {
          "base_uri": "https://localhost:8080/"
        },
        "id": "3_4bdgqFRHlB",
        "outputId": "2349239a-7315-413e-97e7-c305c93aad61"
      },
      "source": [
        "X0 = X0.view(-1, 28*28) # (10, 784)\n",
        "X1 = X0.mm(W0)\n",
        "# print(X1.size(), X0.size(),W.size())\n",
        "X2 = X1.view(-1, 14, 14)\n",
        "print(X2.size())\n",
        "# X1's desired dimension (10, 196) or (10, 196, 1)\n",
        "# W's dimension is (784, 196)\n",
        "# (10, 784) mm (784, 196) = (10, 196)"
      ],
      "execution_count": null,
      "outputs": [
        {
          "output_type": "stream",
          "text": [
            "torch.Size([10, 14, 14])\n"
          ],
          "name": "stdout"
        }
      ]
    },
    {
      "cell_type": "code",
      "metadata": {
        "id": "NWoCkSMz6i1i",
        "colab": {
          "base_uri": "https://localhost:8080/"
        },
        "outputId": "70f9182e-6d3d-4820-faae-5ab4f43a3492"
      },
      "source": [
        "# example of vectorized functions, mean, sum\n",
        "print(X1.mean())\n",
        "print(X1.mean(dim=1))"
      ],
      "execution_count": null,
      "outputs": [
        {
          "output_type": "stream",
          "text": [
            "tensor(-0.6267)\n",
            "tensor([-0.0487, -1.8691, -0.3946, -0.1944, -1.4187, -0.3871, -0.4265, -0.2006,\n",
            "        -1.1636, -0.1639])\n"
          ],
          "name": "stdout"
        }
      ]
    },
    {
      "cell_type": "markdown",
      "metadata": {
        "id": "Tkst9xXhCN4l"
      },
      "source": [
        "## `torch.mm` and `*` in backprop\n",
        "\n",
        "\"broadcastable\": the tensor involved in an operation can be automatically expanded to be of equal sizes (without making copies of the data) to let the operation go through.\n",
        "\n",
        "General semantics\n",
        "Two tensors are “broadcastable” \n",
        "- Each tensor has at least one dimension.\n",
        "- When iterating over the dimension sizes, starting at the last dimension, the dimension sizes must either be equal, one of them is 1, or one of them does not exist."
      ]
    },
    {
      "cell_type": "code",
      "metadata": {
        "id": "Bt63AXfACVpq"
      },
      "source": [
        "torch.manual_seed(42)\n",
        "n_samples = len(data_new)\n",
        "\n",
        "# X[i] is a row vector representing a sample\n",
        "X = data_new.view(-1, 28*28).clone().detach()\n",
        "\n",
        "# y[i] is a made-up label for i-th sample\n",
        "y = torch.randn((n_samples, 1), requires_grad=False)\n",
        "\n",
        "# W is the weight matrix transposed \n",
        "W = torch.randn((28*28, 1), requires_grad=True)\n",
        "L = 0.5*(X.mm(W) - y).square().mean()\n",
        "\n",
        "# backprop\n",
        "L.backward()\n",
        "\n",
        "# gradient\n",
        "with torch.no_grad():\n",
        "    gradW = W.grad"
      ],
      "execution_count": null,
      "outputs": []
    },
    {
      "cell_type": "markdown",
      "metadata": {
        "id": "eBuSf27hDiv4"
      },
      "source": [
        "### Problem 4 in Coding HW 2\n",
        "Implement\n",
        "$$ \n",
        "\\frac{\\partial L}{ \\partial (W^T)} = \\frac{1}{10} \\sum_{i=1}^{10} \n",
        "(W\\boldsymbol{x}^{(i)} -y^{(i)}) * \\boldsymbol{x}^{(i)}\n",
        "$$ \n",
        "\n",
        "First let us look at a simpler function of $\\boldsymbol{w}$\n",
        "$$\n",
        "f(z) = (z - y)^2\n",
        "$$\n",
        "and \n",
        "$$\n",
        "z = \\boldsymbol{w} \\cdot \\boldsymbol{x}\n",
        "$$\n",
        "then \n",
        "$$\n",
        "\\frac{\\partial f}{\\partial \\boldsymbol{w}} = 2(z - y) \\frac{\\partial z}{\\partial \\boldsymbol{w}}  = 2(z-y) \\boldsymbol{x}\n",
        "$$\n",
        "$z-y$ is a scalar, and $\\boldsymbol{x}$ has the same shape with $\\boldsymbol{w}$."
      ]
    },
    {
      "cell_type": "code",
      "metadata": {
        "colab": {
          "base_uri": "https://localhost:8080/"
        },
        "id": "xu9Dlw5QHnPV",
        "outputId": "59113c4b-081d-4ff6-8737-eb6667d1a55b"
      },
      "source": [
        "# demo\n",
        "torch.manual_seed(42)\n",
        "x = torch.randn(10, requires_grad=False)\n",
        "y = torch.randn(1, requires_grad=False)\n",
        "w = torch.zeros(10, requires_grad=True)\n",
        "f = (w.dot(x) - y).pow(2)\n",
        "f.backward()\n",
        "\n",
        "with torch.no_grad():\n",
        "    print(w.grad)"
      ],
      "execution_count": null,
      "outputs": [
        {
          "output_type": "stream",
          "text": [
            "tensor([-0.3602, -0.1378, -0.2508, -0.2464,  1.2012,  0.1993, -2.3624,  0.6825,\n",
            "        -0.4939, -0.2860])\n"
          ],
          "name": "stdout"
        }
      ]
    },
    {
      "cell_type": "code",
      "metadata": {
        "colab": {
          "base_uri": "https://localhost:8080/"
        },
        "id": "44n0M2kRZjfy",
        "outputId": "950fa22a-c0a1-4e3c-bed0-3e33220a7fb6"
      },
      "source": [
        "# compute it by hand\n",
        "with torch.no_grad(): # always use this when computing gradient by hand\n",
        "  z = w.dot(x)\n",
        "  gradw = 2*(z - y) * x\n",
        "print(gradw)"
      ],
      "execution_count": null,
      "outputs": [
        {
          "output_type": "stream",
          "text": [
            "tensor([-0.3602, -0.1378, -0.2508, -0.2464,  1.2012,  0.1993, -2.3624,  0.6825,\n",
            "        -0.4939, -0.2860])\n"
          ],
          "name": "stdout"
        }
      ]
    },
    {
      "cell_type": "markdown",
      "metadata": {
        "id": "pTyfkomaE9nI"
      },
      "source": [
        "Consider multi-dimension\n",
        "$$\n",
        "f(z_1, z_2) = (z_1 - y_1)^2 + (z_2 - y_1)^2\n",
        "$$\n",
        "If we have 5 samples, each one has 3 features\n",
        "For $W^T\\in \\mathbb{R}^{3\\times 2 }$, $\\boldsymbol{x} \\in \\mathbb{R}^{5\\times 3} $\n",
        "$$\n",
        "\\boldsymbol{z} = \\boldsymbol{x} W^T \n",
        "$$\n",
        "then \n",
        "$$\n",
        "\\frac{\\partial f}{\\partial W^T} = 2(\\boldsymbol{z} - \\boldsymbol{y}) \\frac{\\partial z}{\\partial W^T} \n",
        "$$"
      ]
    },
    {
      "cell_type": "markdown",
      "metadata": {
        "id": "vyJ_MYWLFA1d"
      },
      "source": [
        "## Full gradient descent code for 3-layer nn"
      ]
    },
    {
      "cell_type": "code",
      "metadata": {
        "id": "e-Jb0d7XE81e"
      },
      "source": [
        "# N is the sample size (or current batch size); \n",
        "# D_in is input dimension;\n",
        "# N_H is hidden dimension; \n",
        "# D_out is output dimension.\n",
        "N, D_in, N_H, D_out = 64, 1000, 100, 3\n",
        "\n",
        "# Create random Tensors to hold input and outputs.\n",
        "# Setting requires_grad=False indicates that we do not need to compute gradients\n",
        "# with respect to these Tensors during the backward pass.\n",
        "X = torch.randn(N, D_in, requires_grad=False)\n",
        "y = torch.randn(N, D_out, requires_grad=False)\n",
        "\n",
        "# Create random Tensors for weights.\n",
        "# Setting requires_grad=True indicates that we want to compute gradients with\n",
        "# respect to these Tensors during the backward pass.\n",
        "w1 = torch.randn(D_in, N_H, requires_grad=True)\n",
        "w2 = torch.randn(N_H, D_out, requires_grad=True)\n",
        "\n",
        "learning_rate = 1e-6\n",
        "\n",
        "for m in range(1000):\n",
        "    # Forward pass: compute predicted y using operations on Tensors; these\n",
        "    # are exactly the same operations we used to compute the forward pass using\n",
        "    # Tensors, but we do not need to keep references to intermediate values since\n",
        "    # we are not implementing the backward pass by hand.\n",
        "    y_pred = x.mm(w1).clamp(min=0).mm(w2)\n",
        "\n",
        "    # Compute and print loss using operations on Tensors.\n",
        "    # Now loss is a Tensor of shape (1,)\n",
        "    # loss.item() gets the a scalar value held in the loss.\n",
        "    loss = (y_pred - y).pow(2).mean()\n",
        "    if m % 100 == 0:\n",
        "        print(f\"LS loss after {m}\", \n",
        "              f\"iterations is {loss.item()}\",)\n",
        "\n",
        "    # Use autograd to compute the backward pass. This call will compute the\n",
        "    # gradient of loss with respect to all Tensors with requires_grad=True.\n",
        "    # After this call w1.grad and w2.grad will be Tensors holding the gradient\n",
        "    # of the loss with respect to w1 and w2 respectively.\n",
        "    loss.backward()\n",
        "\n",
        "    # Manually update weights using gradient descent. Wrap in torch.no_grad()\n",
        "    # because weights have requires_grad=True, but we don't need to track this\n",
        "    # in autograd.\n",
        "    # An alternative way is to operate on weight.data and weight.grad.data.\n",
        "    # Recall that tensor.data gives a tensor that shares the storage with\n",
        "    # tensor, but doesn't track history.\n",
        "    with torch.no_grad():\n",
        "        w1 -= learning_rate * w1.grad\n",
        "        w2 -= learning_rate * w2.grad\n",
        "\n",
        "        # Manually zero the gradients after updating weights\n",
        "        w1.grad.zero_()\n",
        "        w2.grad.zero_()"
      ],
      "execution_count": null,
      "outputs": []
    },
    {
      "cell_type": "code",
      "metadata": {
        "id": "zk1nnpN7DfOF"
      },
      "source": [
        ""
      ],
      "execution_count": null,
      "outputs": []
    }
  ]
}