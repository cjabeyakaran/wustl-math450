{
  "nbformat": 4,
  "nbformat_minor": 0,
  "metadata": {
    "colab": {
      "name": "Math 450 Notebook 5 (GD).ipynb",
      "provenance": [],
      "collapsed_sections": [],
      "authorship_tag": "ABX9TyN+XiWRcTxGQ06XPzliug9Q",
      "include_colab_link": true
    },
    "kernelspec": {
      "name": "python3",
      "display_name": "Python 3"
    }
  },
  "cells": [
    {
      "cell_type": "markdown",
      "metadata": {
        "id": "view-in-github",
        "colab_type": "text"
      },
      "source": [
        "<a href=\"https://colab.research.google.com/github/scaomath/wustl-math450/blob/main/Lectures/Math_450_Notebook_5_(GD).ipynb\" target=\"_parent\"><img src=\"https://colab.research.google.com/assets/colab-badge.svg\" alt=\"Open In Colab\"/></a>"
      ]
    },
    {
      "cell_type": "markdown",
      "metadata": {
        "id": "zxyfNfsXxw_d"
      },
      "source": [
        "# Coding lecture 4 of Math 450\n",
        "\n",
        "Overall goal of the our class: make us learn machine learning in torch package.\n",
        "- Build our own neural net using Torch's LEGO-like blocks.\n",
        "- Write torch-like code from scratch.\n",
        "- Write our own optimizer.\n",
        "\n",
        "## Last week\n",
        "\n",
        "- Explore MNIST dataset.\n",
        "- Generator, iterator, `iter()` and `next()`\n",
        "- `enumerate()`.\n",
        "- `with`.\n",
        "\n",
        "## Instructor's suggestions and tips\n",
        "- How to debug a `for` loop in a cell environment or a vectorized operation.\n",
        "- Good habit: keep a code repo of ourselves, a working copy of the HW, then a submit version. \n",
        "- Keep a list of typical solutions handy (to save some time Googling or trial and error of StackOverflow's answers). e.g., how to read a pickled file, how to get indices of entries from a list, etc.\n",
        "\n",
        "## Today's goals\n",
        "- f-string.\n",
        "- `try: except:` flow control.\n",
        "- More on matrix-vector multiplications (most important skill: dimension tracking). The terminology \"broadcastable\".\n",
        "- Backprop `loss.backward()` vs hand computation.\n",
        "- Gradient descent (manual implementation)."
      ]
    },
    {
      "cell_type": "code",
      "metadata": {
        "id": "EiYrajEv2DFk"
      },
      "source": [
        "from torchvision import datasets, transforms\n",
        "from torch.utils.data import DataLoader\n",
        "\n",
        "import matplotlib.pyplot as plt\n",
        "import seaborn as sns\n",
        "sns.set_style(\"dark\")\n",
        "\n",
        "import torch\n",
        "import torch.nn as nn\n",
        "import numpy as np\n",
        "\n",
        "import warnings\n",
        "warnings.filterwarnings(\"ignore\")"
      ],
      "execution_count": null,
      "outputs": []
    },
    {
      "cell_type": "markdown",
      "metadata": {
        "id": "MhNInNab0zJ0"
      },
      "source": [
        "## f-string\n",
        "New in Python 3, very handy tool."
      ]
    },
    {
      "cell_type": "code",
      "metadata": {
        "id": "hJ8bAqTGvwYX"
      },
      "source": [
        "# example of a timer"
      ],
      "execution_count": null,
      "outputs": []
    },
    {
      "cell_type": "code",
      "metadata": {
        "id": "9oqKwrrX1Aqw"
      },
      "source": [
        "# print the counter of iterations"
      ],
      "execution_count": null,
      "outputs": []
    },
    {
      "cell_type": "markdown",
      "metadata": {
        "id": "VBvxNjFsBwi-"
      },
      "source": [
        "## Try, except\n",
        "\n",
        "Often seen in many data loading routines."
      ]
    },
    {
      "cell_type": "code",
      "metadata": {
        "id": "Orv5D4xJB33_"
      },
      "source": [
        "# this line of code will give us error\n",
        "print(x)"
      ],
      "execution_count": null,
      "outputs": []
    },
    {
      "cell_type": "markdown",
      "metadata": {
        "id": "J45DaxNr1GUt"
      },
      "source": [
        "## Debugging `for` loops\n",
        "\n",
        "- How do we figure out what a `for` loop is doing?\n",
        "- From `for` loop to vectorization."
      ]
    },
    {
      "cell_type": "code",
      "metadata": {
        "id": "QTc-q3ur1o4-"
      },
      "source": [
        "# load the mnist data\n",
        "\n",
        "train = datasets.MNIST('../data', train=True, download=True, transform = transforms.ToTensor())"
      ],
      "execution_count": null,
      "outputs": []
    },
    {
      "cell_type": "code",
      "metadata": {
        "id": "qB5D_Mkx3QCq"
      },
      "source": [
        "idx = (train.targets==8)\n",
        "labels_new = train.targets[idx]\n",
        "data = train.train_data[idx]/255.0"
      ],
      "execution_count": null,
      "outputs": []
    },
    {
      "cell_type": "code",
      "metadata": {
        "colab": {
          "base_uri": "https://localhost:8080/"
        },
        "id": "KZm5dgeh3sdp",
        "outputId": "c76f7b75-9d77-4718-820c-514a6bf9cab6"
      },
      "source": [
        "n_data_all = len(data)\n",
        "idx = np.random.choice(range(n_data_all), size=10)\n",
        "data_new = data[idx].clone().detach()\n",
        "print(data_new.shape)"
      ],
      "execution_count": null,
      "outputs": [
        {
          "output_type": "stream",
          "text": [
            "torch.Size([10, 28, 28])\n"
          ],
          "name": "stdout"
        }
      ]
    },
    {
      "cell_type": "code",
      "metadata": {
        "colab": {
          "base_uri": "https://localhost:8080/",
          "height": 265
        },
        "id": "9EvgpmA84OZV",
        "outputId": "e35195ce-725f-4f68-c9cc-e497a2142107"
      },
      "source": [
        "i = 0\n",
        "plt.imshow(data_new[i,:,:], cmap='gray'); # plot the i-th sample"
      ],
      "execution_count": null,
      "outputs": [
        {
          "output_type": "display_data",
          "data": {
            "image/png": "[encoded data removed]",
            "text/plain": [
              "<Figure size 432x288 with 1 Axes>"
            ]
          },
          "metadata": {
            "tags": []
          }
        }
      ]
    },
    {
      "cell_type": "code",
      "metadata": {
        "id": "nI4ANbqW4Qz9"
      },
      "source": [
        "# problem 2 in HW, how to dissect this code\n",
        "W0 = torch.randn(28*28, 14*14)\n",
        "n_samples = len(data_new)\n",
        "X0 = data_new\n",
        "X1 = torch.zeros(n_samples, 14*14, 1)\n",
        "for i in range(n_samples):\n",
        "    sample = X0[i,:,:].view(-1,1)\n",
        "    X1[i,:] = W0.T.mm(sample)\n",
        "X2 = X1.view(-1,14,14)\n"
      ],
      "execution_count": null,
      "outputs": []
    },
    {
      "cell_type": "code",
      "metadata": {
        "id": "NWoCkSMz6i1i"
      },
      "source": [
        "# example of vectorized functions, mean, sum"
      ],
      "execution_count": null,
      "outputs": []
    },
    {
      "cell_type": "markdown",
      "metadata": {
        "id": "Tkst9xXhCN4l"
      },
      "source": [
        "## `torch.mm` and `*` in backprop\n",
        "\n",
        "\"broadcastable\": the tensor involved in an operation can be automatically expanded to be of equal sizes (without making copies of the data) to let the operation go through.\n",
        "\n",
        "General semantics\n",
        "Two tensors are “broadcastable” \n",
        "- Each tensor has at least one dimension.\n",
        "- When iterating over the dimension sizes, starting at the last dimension, the dimension sizes must either be equal, one of them is 1, or one of them does not exist."
      ]
    },
    {
      "cell_type": "code",
      "metadata": {
        "id": "Bt63AXfACVpq"
      },
      "source": [
        "torch.manual_seed(42)\n",
        "n_samples = len(data_new)\n",
        "\n",
        "# X[i] is a row vector representing a sample\n",
        "X = data_new.view(-1, 28*28).clone().detach()\n",
        "\n",
        "# y[i] is a made-up label for i-th sample\n",
        "y = torch.randn((n_samples, 1), requires_grad=False)\n",
        "\n",
        "# W is the weight matrix transposed \n",
        "W = torch.randn((28*28, 1), requires_grad=True)\n",
        "L = 0.5*(X.mm(W) - y).square().mean()\n",
        "\n",
        "# backprop\n",
        "L.backward()\n",
        "\n",
        "# gradient\n",
        "with torch.no_grad():\n",
        "    gradW = W.grad"
      ],
      "execution_count": 27,
      "outputs": []
    },
    {
      "cell_type": "markdown",
      "metadata": {
        "id": "eBuSf27hDiv4"
      },
      "source": [
        "### Problem 4 in HW 4\n",
        "Implement\n",
        "$$ \n",
        "\\frac{\\partial L}{ \\partial (W^T)} = \\frac{1}{10} \\sum_{i=1}^{10} \n",
        "(W\\boldsymbol{x}^{(i)} -y^{(i)}) * \\boldsymbol{x}^{(i)}\n",
        "$$ \n",
        "\n",
        "First let us look at a simpler function of $\\boldsymbol{w}$\n",
        "$$\n",
        "f(z) = (z - y)^2\n",
        "$$\n",
        "and \n",
        "$$\n",
        "z = \\boldsymbol{w} \\cdot \\boldsymbol{x}\n",
        "$$\n",
        "then \n",
        "$$\n",
        "\\frac{\\partial f}{\\partial \\boldsymbol{w}} = 2(z - y) \\frac{\\partial z}{\\partial \\boldsymbol{w}} \n",
        "$$"
      ]
    },
    {
      "cell_type": "code",
      "metadata": {
        "id": "xu9Dlw5QHnPV"
      },
      "source": [
        "# demo"
      ],
      "execution_count": null,
      "outputs": []
    },
    {
      "cell_type": "markdown",
      "metadata": {
        "id": "pTyfkomaE9nI"
      },
      "source": [
        "Consider multi-dimension\n",
        "$$\n",
        "f(z_1, z_2) = (z_1 - y_1)^2 + (z_2 - y_1)^2\n",
        "$$\n",
        "If we have 5 samples, each one has 3 features\n",
        "For $W^T\\in \\mathbb{R}^{3\\times 2 }$, $\\boldsymbol{x} \\in \\mathbb{R}^{5\\times 3} $\n",
        "$$\n",
        "\\boldsymbol{z} = \\boldsymbol{x} W^T \n",
        "$$\n",
        "then \n",
        "$$\n",
        "\\frac{\\partial f}{\\partial W^T} = 2(\\boldsymbol{z} - \\boldsymbol{y}) \\frac{\\partial z}{\\partial W^T} \n",
        "$$"
      ]
    },
    {
      "cell_type": "markdown",
      "metadata": {
        "id": "vyJ_MYWLFA1d"
      },
      "source": [
        "## Full gradient descent code for 3-layer nn"
      ]
    },
    {
      "cell_type": "code",
      "metadata": {
        "id": "e-Jb0d7XE81e"
      },
      "source": [
        "# N is the sample size (or current batch size); \n",
        "# D_in is input dimension;\n",
        "# N_H is hidden dimension; \n",
        "# D_out is output dimension.\n",
        "N, D_in, N_H, D_out = 64, 1000, 100, 3\n",
        "\n",
        "# Create random Tensors to hold input and outputs.\n",
        "# Setting requires_grad=False indicates that we do not need to compute gradients\n",
        "# with respect to these Tensors during the backward pass.\n",
        "X = torch.randn(N, D_in, requires_grad=False)\n",
        "y = torch.randn(N, D_out, requires_grad=False)\n",
        "\n",
        "# Create random Tensors for weights.\n",
        "# Setting requires_grad=True indicates that we want to compute gradients with\n",
        "# respect to these Tensors during the backward pass.\n",
        "w1 = torch.randn(D_in, N_H, requires_grad=True)\n",
        "w2 = torch.randn(N_H, D_out, requires_grad=True)\n",
        "\n",
        "learning_rate = 1e-6\n",
        "\n",
        "for m in range(1000):\n",
        "    # Forward pass: compute predicted y using operations on Tensors; these\n",
        "    # are exactly the same operations we used to compute the forward pass using\n",
        "    # Tensors, but we do not need to keep references to intermediate values since\n",
        "    # we are not implementing the backward pass by hand.\n",
        "    y_pred = x.mm(w1).clamp(min=0).mm(w2)\n",
        "\n",
        "    # Compute and print loss using operations on Tensors.\n",
        "    # Now loss is a Tensor of shape (1,)\n",
        "    # loss.item() gets the a scalar value held in the loss.\n",
        "    loss = (y_pred - y).pow(2).mean()\n",
        "    if m % 100 == 0:\n",
        "        print(f\"LS loss after {m}\", \n",
        "              f\"iterations is {loss.item()}\",)\n",
        "\n",
        "    # Use autograd to compute the backward pass. This call will compute the\n",
        "    # gradient of loss with respect to all Tensors with requires_grad=True.\n",
        "    # After this call w1.grad and w2.grad will be Tensors holding the gradient\n",
        "    # of the loss with respect to w1 and w2 respectively.\n",
        "    loss.backward()\n",
        "\n",
        "    # Manually update weights using gradient descent. Wrap in torch.no_grad()\n",
        "    # because weights have requires_grad=True, but we don't need to track this\n",
        "    # in autograd.\n",
        "    # An alternative way is to operate on weight.data and weight.grad.data.\n",
        "    # Recall that tensor.data gives a tensor that shares the storage with\n",
        "    # tensor, but doesn't track history.\n",
        "    with torch.no_grad():\n",
        "        w1 -= learning_rate * w1.grad\n",
        "        w2 -= learning_rate * w2.grad\n",
        "\n",
        "        # Manually zero the gradients after updating weights\n",
        "        w1.grad.zero_()\n",
        "        w2.grad.zero_()"
      ],
      "execution_count": null,
      "outputs": []
    },
    {
      "cell_type": "code",
      "metadata": {
        "id": "zk1nnpN7DfOF"
      },
      "source": [
        ""
      ],
      "execution_count": null,
      "outputs": []
    }
  ]
}